{
 "cells": [
  {
   "cell_type": "markdown",
   "metadata": {
    "pycharm": {
     "name": "#%% md\n"
    }
   },
   "source": [
    "# SUMMARY\n",
    "Для задачи предсказания зароботной платы были проведены эксперименты со следующими моделями:\n",
    "    \n",
    "    1) SalaryPredictor - базовая модель со сверточными слоями, нормированием по слоям и эмбеддингами, инициализируемых случайно\n",
    "    2) SalaryPredictorBatchNorm - с нормированием по батчам\n",
    "    3) SalaryPredictorLayerNorm - с нормированием по слоям\n",
    "    4) SalaryPredictorParallelConv - параллельные сверточные слои\n",
    "    5) SalaryPredictorStackMoreLayers - с удвоенным количеством слоев\n",
    "    6) SalaryPredictorEarlyStopping - базовая модель с остановкой обучения после 5 эпохи\n",
    "    7) SalaryPredictorMaxPool - с пулингом максимального значения\n",
    "    8) SalaryPredictorAvgPool - с пулингом усредненного значения\n",
    "    9) SalaryPredictorPretrainedEmbeddings - с предобученными эмбеддингами *glove-wiki-gigaword-50*\n",
    "    10) SalaryPredictorPretrainedEmbeddingsTrainedWeights - с предобученными эмбеддингами и их дообучением\n",
    "    11) SalaryPredictorLSTM - со слоями LSTM вместо сверточных для текстовых признаков\n",
    "    12) SalaryPredictorBidirectionalLSTM - с двунаправленными LSTM\n",
    "    13) SalaryPredictorRandomForest - с ансамблем деревьев решений в качестве последнего слоя для SalaryPredictorLayerNorm\n",
    "    14) SalaryPredictorSoftmaxPooling - с пулингом значений после функции Softmax\n",
    "    15) SalaryPredictorAttentivePooling - с пулингом значений после функции Attention\n",
    "\n",
    "***[Графики функции потерь и метрик MSE и MAE](https://tensorboard.dev/experiment/sOyIrKlBRTGmYkrSvh9p4g/#scalars)***\n",
    "\n",
    "Лучшее качество показала модель со сверточными слоями, механизмом внимания и эмбеддингами, инициализируемых случайно (***SalaryPredictorAttentivePooling***) - MSE **0.024**.\n",
    "Некоторые другие модели показали качество немногим хуже, но все еще очень хорошее MSE 0.027:\n",
    "* с нормированием SalaryPredictorBatchNorm и SalaryPredictorLayerNorm\n",
    "* с предобученными эмбеддингами и их дообучением (*SalaryPredictorPretrainedEmbeddingsTrainedWeights*)\n",
    "* сеть с двунаправленными реккурентными слоями для обработки текстовых признаков (*SalaryPredictorBidirectionalLSTM*)\n",
    "\n",
    "Все модели имели поведение на обучении похожее между собой (см. графики), кроме:\n",
    "* базовой модели *SalaryPredictor*, которая имеет более долгую и плавную сходимость\n",
    "* модели с большим количеством слоев *SalaryPredictorStackMoreLayers*, которая дольше сходилась из-за большого количества параметров\n",
    "* модели с параллельными свертками *SalaryPredictorParallelConv* - также из-за большего числа параметров и возросшей сложности\n",
    "* и ансамбля из деревьев решений в качестве регрессионнного слоя *SalaryPredictorRandomForest* и признаков из обученной сети, которые сошлись моментально\n",
    "\n",
    "Для обучения базовой модели необходимо **5** эпох (см. *SalaryPredictorEarlyStopping*)"
   ]
  },
  {
   "cell_type": "markdown",
   "metadata": {},
   "source": [
    "# Large scale text analysis with deep learning (3 points)\n",
    "\n",
    "Today we're gonna apply the newly learned tools for the task of predicting job salary.\n",
    "\n",
    "<img src=\"https://storage.googleapis.com/kaggle-competitions/kaggle/3342/media/salary%20prediction%20engine%20v2.png\" width=400px>\n",
    "\n",
    "_Special thanks to [Oleg Vasilev](https://github.com/Omrigan/) for the core assignment idea._"
   ]
  },
  {
   "cell_type": "code",
   "execution_count": null,
   "metadata": {
    "id": "YWS0E8OHZe8s",
    "pycharm": {
     "is_executing": true
    }
   },
   "outputs": [],
   "source": [
    "import zipfile\n",
    "\n",
    "import kaggle\n",
    "import matplotlib.pyplot as plt\n",
    "import numpy as np\n",
    "import pandas as pd\n",
    "\n",
    "%matplotlib inline"
   ]
  },
  {
   "cell_type": "markdown",
   "metadata": {
    "id": "JbjrfFspZe8s"
   },
   "source": [
    "### About the challenge\n",
    "For starters, let's download and unpack the data from [here]. \n",
    "\n",
    "You can also get it from [yadisk url](https://yadi.sk/d/vVEOWPFY3NruT7) the competition [page](https://www.kaggle.com/c/job-salary-prediction/data) (pick `Train_rev1.*`)."
   ]
  },
  {
   "cell_type": "code",
   "execution_count": null,
   "metadata": {
    "pycharm": {
     "is_executing": true,
     "name": "#%%\n"
    }
   },
   "outputs": [],
   "source": [
    "kaggle.api.authenticate()\n",
    "kaggle.api.competition_download_files('job-salary-prediction', path='.')\n",
    "\n",
    "with zipfile.ZipFile('job-salary-prediction.zip', 'r') as zip_ref:\n",
    "    zip_ref.extractall('job-salary-prediction')\n",
    "with zipfile.ZipFile('job-salary-prediction/Train_rev1.zip', 'r') as zip_ref:\n",
    "    zip_ref.extractall('job-salary-prediction/Train_rev1')\n",
    "with zipfile.ZipFile('job-salary-prediction/Test_rev1.zip', 'r') as zip_ref:\n",
    "    zip_ref.extractall('job-salary-prediction/Test_rev1')"
   ]
  },
  {
   "cell_type": "code",
   "execution_count": 2,
   "metadata": {
    "colab": {
     "base_uri": "https://localhost:8080/"
    },
    "executionInfo": {
     "elapsed": 15652,
     "status": "ok",
     "timestamp": 1624451929807,
     "user": {
      "displayName": "Aleksey Shimko",
      "photoUrl": "",
      "userId": "06639583344500545085"
     },
     "user_tz": -180
    },
    "id": "qsBw4DmiZe8t",
    "outputId": "e441fd46-3f1e-4833-e88e-b8df2e4f068d"
   },
   "outputs": [
    {
     "data": {
      "text/plain": [
       "(244768, 12)"
      ]
     },
     "execution_count": 2,
     "metadata": {},
     "output_type": "execute_result"
    }
   ],
   "source": [
    "data = pd.read_csv(\"job-salary-prediction/Train_rev1/Train_rev1.csv\", index_col=None)\n",
    "data.shape"
   ]
  },
  {
   "cell_type": "code",
   "execution_count": 3,
   "metadata": {
    "colab": {
     "base_uri": "https://localhost:8080/",
     "height": 495
    },
    "executionInfo": {
     "elapsed": 8,
     "status": "ok",
     "timestamp": 1624451929807,
     "user": {
      "displayName": "Aleksey Shimko",
      "photoUrl": "",
      "userId": "06639583344500545085"
     },
     "user_tz": -180
    },
    "id": "NaYFLUUsZe8u",
    "outputId": "8915d572-44b1-41d7-c658-fae0fc270530"
   },
   "outputs": [
    {
     "data": {
      "text/html": [
       "<div>\n",
       "<style scoped>\n",
       "    .dataframe tbody tr th:only-of-type {\n",
       "        vertical-align: middle;\n",
       "    }\n",
       "\n",
       "    .dataframe tbody tr th {\n",
       "        vertical-align: top;\n",
       "    }\n",
       "\n",
       "    .dataframe thead th {\n",
       "        text-align: right;\n",
       "    }\n",
       "</style>\n",
       "<table border=\"1\" class=\"dataframe\">\n",
       "  <thead>\n",
       "    <tr style=\"text-align: right;\">\n",
       "      <th></th>\n",
       "      <th>Id</th>\n",
       "      <th>Title</th>\n",
       "      <th>FullDescription</th>\n",
       "      <th>LocationRaw</th>\n",
       "      <th>LocationNormalized</th>\n",
       "      <th>ContractType</th>\n",
       "      <th>ContractTime</th>\n",
       "      <th>Company</th>\n",
       "      <th>Category</th>\n",
       "      <th>SalaryRaw</th>\n",
       "      <th>SalaryNormalized</th>\n",
       "      <th>SourceName</th>\n",
       "    </tr>\n",
       "  </thead>\n",
       "  <tbody>\n",
       "    <tr>\n",
       "      <th>0</th>\n",
       "      <td>12612628</td>\n",
       "      <td>Engineering Systems Analyst</td>\n",
       "      <td>Engineering Systems Analyst Dorking Surrey Sal...</td>\n",
       "      <td>Dorking, Surrey, Surrey</td>\n",
       "      <td>Dorking</td>\n",
       "      <td>NaN</td>\n",
       "      <td>permanent</td>\n",
       "      <td>Gregory Martin International</td>\n",
       "      <td>Engineering Jobs</td>\n",
       "      <td>20000 - 30000/annum 20-30K</td>\n",
       "      <td>25000</td>\n",
       "      <td>cv-library.co.uk</td>\n",
       "    </tr>\n",
       "    <tr>\n",
       "      <th>1</th>\n",
       "      <td>12612830</td>\n",
       "      <td>Stress Engineer Glasgow</td>\n",
       "      <td>Stress Engineer Glasgow Salary **** to **** We...</td>\n",
       "      <td>Glasgow, Scotland, Scotland</td>\n",
       "      <td>Glasgow</td>\n",
       "      <td>NaN</td>\n",
       "      <td>permanent</td>\n",
       "      <td>Gregory Martin International</td>\n",
       "      <td>Engineering Jobs</td>\n",
       "      <td>25000 - 35000/annum 25-35K</td>\n",
       "      <td>30000</td>\n",
       "      <td>cv-library.co.uk</td>\n",
       "    </tr>\n",
       "    <tr>\n",
       "      <th>2</th>\n",
       "      <td>12612844</td>\n",
       "      <td>Modelling and simulation analyst</td>\n",
       "      <td>Mathematical Modeller / Simulation Analyst / O...</td>\n",
       "      <td>Hampshire, South East, South East</td>\n",
       "      <td>Hampshire</td>\n",
       "      <td>NaN</td>\n",
       "      <td>permanent</td>\n",
       "      <td>Gregory Martin International</td>\n",
       "      <td>Engineering Jobs</td>\n",
       "      <td>20000 - 40000/annum 20-40K</td>\n",
       "      <td>30000</td>\n",
       "      <td>cv-library.co.uk</td>\n",
       "    </tr>\n",
       "    <tr>\n",
       "      <th>3</th>\n",
       "      <td>12613049</td>\n",
       "      <td>Engineering Systems Analyst / Mathematical Mod...</td>\n",
       "      <td>Engineering Systems Analyst / Mathematical Mod...</td>\n",
       "      <td>Surrey, South East, South East</td>\n",
       "      <td>Surrey</td>\n",
       "      <td>NaN</td>\n",
       "      <td>permanent</td>\n",
       "      <td>Gregory Martin International</td>\n",
       "      <td>Engineering Jobs</td>\n",
       "      <td>25000 - 30000/annum 25K-30K negotiable</td>\n",
       "      <td>27500</td>\n",
       "      <td>cv-library.co.uk</td>\n",
       "    </tr>\n",
       "    <tr>\n",
       "      <th>4</th>\n",
       "      <td>12613647</td>\n",
       "      <td>Pioneer, Miser Engineering Systems Analyst</td>\n",
       "      <td>Pioneer, Miser  Engineering Systems Analyst Do...</td>\n",
       "      <td>Surrey, South East, South East</td>\n",
       "      <td>Surrey</td>\n",
       "      <td>NaN</td>\n",
       "      <td>permanent</td>\n",
       "      <td>Gregory Martin International</td>\n",
       "      <td>Engineering Jobs</td>\n",
       "      <td>20000 - 30000/annum 20-30K</td>\n",
       "      <td>25000</td>\n",
       "      <td>cv-library.co.uk</td>\n",
       "    </tr>\n",
       "  </tbody>\n",
       "</table>\n",
       "</div>"
      ],
      "text/plain": [
       "         Id                                              Title  \\\n",
       "0  12612628                        Engineering Systems Analyst   \n",
       "1  12612830                            Stress Engineer Glasgow   \n",
       "2  12612844                   Modelling and simulation analyst   \n",
       "3  12613049  Engineering Systems Analyst / Mathematical Mod...   \n",
       "4  12613647         Pioneer, Miser Engineering Systems Analyst   \n",
       "\n",
       "                                     FullDescription  \\\n",
       "0  Engineering Systems Analyst Dorking Surrey Sal...   \n",
       "1  Stress Engineer Glasgow Salary **** to **** We...   \n",
       "2  Mathematical Modeller / Simulation Analyst / O...   \n",
       "3  Engineering Systems Analyst / Mathematical Mod...   \n",
       "4  Pioneer, Miser  Engineering Systems Analyst Do...   \n",
       "\n",
       "                         LocationRaw LocationNormalized ContractType  \\\n",
       "0            Dorking, Surrey, Surrey            Dorking          NaN   \n",
       "1        Glasgow, Scotland, Scotland            Glasgow          NaN   \n",
       "2  Hampshire, South East, South East          Hampshire          NaN   \n",
       "3     Surrey, South East, South East             Surrey          NaN   \n",
       "4     Surrey, South East, South East             Surrey          NaN   \n",
       "\n",
       "  ContractTime                       Company          Category  \\\n",
       "0    permanent  Gregory Martin International  Engineering Jobs   \n",
       "1    permanent  Gregory Martin International  Engineering Jobs   \n",
       "2    permanent  Gregory Martin International  Engineering Jobs   \n",
       "3    permanent  Gregory Martin International  Engineering Jobs   \n",
       "4    permanent  Gregory Martin International  Engineering Jobs   \n",
       "\n",
       "                                SalaryRaw  SalaryNormalized        SourceName  \n",
       "0              20000 - 30000/annum 20-30K             25000  cv-library.co.uk  \n",
       "1              25000 - 35000/annum 25-35K             30000  cv-library.co.uk  \n",
       "2              20000 - 40000/annum 20-40K             30000  cv-library.co.uk  \n",
       "3  25000 - 30000/annum 25K-30K negotiable             27500  cv-library.co.uk  \n",
       "4              20000 - 30000/annum 20-30K             25000  cv-library.co.uk  "
      ]
     },
     "execution_count": 3,
     "metadata": {},
     "output_type": "execute_result"
    }
   ],
   "source": [
    "data.head()"
   ]
  },
  {
   "cell_type": "markdown",
   "metadata": {
    "id": "GzN578PlZe8v"
   },
   "source": [
    "One problem with salary prediction is that it's oddly distributed: there are many people who are paid standard salaries and a few that get tons o money. The distribution is fat-tailed on the right side, which is inconvenient for MSE minimization.\n",
    "\n",
    "There are several techniques to combat this: using a different loss function, predicting log-target instead of raw target or even replacing targets with their percentiles among all salaries in the training set. We gonna use logarithm for now.\n",
    "\n",
    "_You can read more [in the official description](https://www.kaggle.com/c/job-salary-prediction#description)._"
   ]
  },
  {
   "cell_type": "code",
   "execution_count": 4,
   "metadata": {
    "colab": {
     "base_uri": "https://localhost:8080/",
     "height": 265
    },
    "executionInfo": {
     "elapsed": 541,
     "status": "ok",
     "timestamp": 1624451930343,
     "user": {
      "displayName": "Aleksey Shimko",
      "photoUrl": "",
      "userId": "06639583344500545085"
     },
     "user_tz": -180
    },
    "id": "7m4_nPD5Ze8v",
    "outputId": "500dc396-ee5e-4ca1-9ccd-ee92c7cb3ae6"
   },
   "outputs": [
    {
     "data": {
      "image/png": "[encoded data removed]",
      "text/plain": [
       "<Figure size 576x288 with 2 Axes>"
      ]
     },
     "metadata": {
      "needs_background": "light"
     },
     "output_type": "display_data"
    }
   ],
   "source": [
    "data['Log1pSalary'] = np.log1p(data['SalaryNormalized']).astype('float32')\n",
    "\n",
    "plt.figure(figsize=[8, 4])\n",
    "plt.subplot(1, 2, 1)\n",
    "plt.hist(data[\"SalaryNormalized\"], bins=20)\n",
    "\n",
    "plt.subplot(1, 2, 2)\n",
    "plt.hist(data['Log1pSalary'], bins=20);"
   ]
  },
  {
   "cell_type": "markdown",
   "metadata": {
    "id": "FQ4sxIXDZe8w"
   },
   "source": [
    "Our task is to predict one number, __Log1pSalary__.\n",
    "\n",
    "To do so, our model can access a number of features:\n",
    "* Free text: __`Title`__ and  __`FullDescription`__\n",
    "* Categorical: __`Category`__, __`Company`__, __`LocationNormalized`__, __`ContractType`__, and __`ContractTime`__."
   ]
  },
  {
   "cell_type": "code",
   "execution_count": 5,
   "metadata": {
    "colab": {
     "base_uri": "https://localhost:8080/",
     "height": 348
    },
    "executionInfo": {
     "elapsed": 17,
     "status": "ok",
     "timestamp": 1624451930343,
     "user": {
      "displayName": "Aleksey Shimko",
      "photoUrl": "",
      "userId": "06639583344500545085"
     },
     "user_tz": -180
    },
    "id": "6dYdc8PIZe8w",
    "outputId": "1660641f-adb1-4215-ba25-cc0c0b8c1023"
   },
   "outputs": [
    {
     "data": {
      "text/html": [
       "<div>\n",
       "<style scoped>\n",
       "    .dataframe tbody tr th:only-of-type {\n",
       "        vertical-align: middle;\n",
       "    }\n",
       "\n",
       "    .dataframe tbody tr th {\n",
       "        vertical-align: top;\n",
       "    }\n",
       "\n",
       "    .dataframe thead th {\n",
       "        text-align: right;\n",
       "    }\n",
       "</style>\n",
       "<table border=\"1\" class=\"dataframe\">\n",
       "  <thead>\n",
       "    <tr style=\"text-align: right;\">\n",
       "      <th></th>\n",
       "      <th>Id</th>\n",
       "      <th>Title</th>\n",
       "      <th>FullDescription</th>\n",
       "      <th>LocationRaw</th>\n",
       "      <th>LocationNormalized</th>\n",
       "      <th>ContractType</th>\n",
       "      <th>ContractTime</th>\n",
       "      <th>Company</th>\n",
       "      <th>Category</th>\n",
       "      <th>SalaryRaw</th>\n",
       "      <th>SalaryNormalized</th>\n",
       "      <th>SourceName</th>\n",
       "      <th>Log1pSalary</th>\n",
       "    </tr>\n",
       "  </thead>\n",
       "  <tbody>\n",
       "    <tr>\n",
       "      <th>24695</th>\n",
       "      <td>67745996</td>\n",
       "      <td>RMN's required  Maidstone</td>\n",
       "      <td>We have RMN vacancies at Glenhurst Lodge, an i...</td>\n",
       "      <td>Maidstone</td>\n",
       "      <td>Maidstone</td>\n",
       "      <td>full_time</td>\n",
       "      <td>NaN</td>\n",
       "      <td>Glen Care Group</td>\n",
       "      <td>Healthcare &amp; Nursing Jobs</td>\n",
       "      <td>21,259 - 26,657/Year</td>\n",
       "      <td>23958</td>\n",
       "      <td>staffnurse.com</td>\n",
       "      <td>10.084100</td>\n",
       "    </tr>\n",
       "    <tr>\n",
       "      <th>76525</th>\n",
       "      <td>69007545</td>\n",
       "      <td>Vocational Instructor of Electrical Engineering</td>\n",
       "      <td>A Technical Training provider is looking for a...</td>\n",
       "      <td>Middlesbrough, North Yorkshire</td>\n",
       "      <td>Middlesbrough</td>\n",
       "      <td>NaN</td>\n",
       "      <td>permanent</td>\n",
       "      <td>Alderwood Education</td>\n",
       "      <td>Teaching Jobs</td>\n",
       "      <td>26179/annum</td>\n",
       "      <td>26179</td>\n",
       "      <td>cv-library.co.uk</td>\n",
       "      <td>10.172751</td>\n",
       "    </tr>\n",
       "    <tr>\n",
       "      <th>30763</th>\n",
       "      <td>68065790</td>\n",
       "      <td>Motor Vehicle Technician  fully qualifed</td>\n",
       "      <td>The market leading vehicle hire company by fle...</td>\n",
       "      <td>Aberdeen Aberdeenshire Scotland</td>\n",
       "      <td>Aberdeen</td>\n",
       "      <td>NaN</td>\n",
       "      <td>permanent</td>\n",
       "      <td>Northgate</td>\n",
       "      <td>Other/General Jobs</td>\n",
       "      <td>From 23,290 to 23,290 per annum</td>\n",
       "      <td>23290</td>\n",
       "      <td>totaljobs.com</td>\n",
       "      <td>10.055822</td>\n",
       "    </tr>\n",
       "  </tbody>\n",
       "</table>\n",
       "</div>"
      ],
      "text/plain": [
       "             Id                                            Title  \\\n",
       "24695  67745996                        RMN's required  Maidstone   \n",
       "76525  69007545  Vocational Instructor of Electrical Engineering   \n",
       "30763  68065790         Motor Vehicle Technician  fully qualifed   \n",
       "\n",
       "                                         FullDescription  \\\n",
       "24695  We have RMN vacancies at Glenhurst Lodge, an i...   \n",
       "76525  A Technical Training provider is looking for a...   \n",
       "30763  The market leading vehicle hire company by fle...   \n",
       "\n",
       "                           LocationRaw LocationNormalized ContractType  \\\n",
       "24695                        Maidstone          Maidstone    full_time   \n",
       "76525   Middlesbrough, North Yorkshire      Middlesbrough          NaN   \n",
       "30763  Aberdeen Aberdeenshire Scotland           Aberdeen          NaN   \n",
       "\n",
       "      ContractTime              Company                   Category  \\\n",
       "24695          NaN      Glen Care Group  Healthcare & Nursing Jobs   \n",
       "76525    permanent  Alderwood Education              Teaching Jobs   \n",
       "30763    permanent            Northgate         Other/General Jobs   \n",
       "\n",
       "                             SalaryRaw  SalaryNormalized        SourceName  \\\n",
       "24695             21,259 - 26,657/Year             23958    staffnurse.com   \n",
       "76525                      26179/annum             26179  cv-library.co.uk   \n",
       "30763  From 23,290 to 23,290 per annum             23290     totaljobs.com   \n",
       "\n",
       "       Log1pSalary  \n",
       "24695    10.084100  \n",
       "76525    10.172751  \n",
       "30763    10.055822  "
      ]
     },
     "execution_count": 5,
     "metadata": {},
     "output_type": "execute_result"
    }
   ],
   "source": [
    "text_columns = [\"Title\", \"FullDescription\"]\n",
    "categorical_columns = [\"Category\", \"Company\", \"LocationNormalized\", \"ContractType\", \"ContractTime\"]\n",
    "TARGET_COLUMN = \"Log1pSalary\"\n",
    "\n",
    "data[categorical_columns] = data[categorical_columns].fillna('NaN') # cast missing values to string \"NaN\"\n",
    "data[text_columns] = data[text_columns].fillna('NaN')\n",
    "\n",
    "data.sample(3)"
   ]
  },
  {
   "cell_type": "markdown",
   "metadata": {
    "id": "sJGyz6vgZe8w"
   },
   "source": [
    "### Preprocessing text data\n",
    "\n",
    "Just like last week, applying NLP to a problem begins from tokenization: splitting raw text into sequences of tokens (words, punctuation, etc).\n",
    "\n",
    "__Your task__ is to lowercase and tokenize all texts under `Title` and `FullDescription` columns. Store the tokenized data as a __space-separated__ string of tokens for performance reasons.\n",
    "\n",
    "It's okay to use nltk tokenizers. Assertions were designed for WordPunctTokenizer, slight deviations are okay."
   ]
  },
  {
   "cell_type": "code",
   "execution_count": 6,
   "metadata": {
    "colab": {
     "base_uri": "https://localhost:8080/"
    },
    "executionInfo": {
     "elapsed": 16,
     "status": "ok",
     "timestamp": 1624451930344,
     "user": {
      "displayName": "Aleksey Shimko",
      "photoUrl": "",
      "userId": "06639583344500545085"
     },
     "user_tz": -180
    },
    "id": "djOwAHFHZe8w",
    "outputId": "0fd7d361-66be-474e-9d4c-b6378937bc36",
    "scrolled": true
   },
   "outputs": [
    {
     "name": "stdout",
     "output_type": "stream",
     "text": [
      "Raw text:\n",
      "2         Mathematical Modeller / Simulation Analyst / O...\n",
      "100002    A successful and high achieving specialist sch...\n",
      "200002    Web Designer  HTML, CSS, JavaScript, Photoshop...\n",
      "Name: FullDescription, dtype: object\n"
     ]
    }
   ],
   "source": [
    "print(\"Raw text:\")\n",
    "print(data[\"FullDescription\"][2::100000])"
   ]
  },
  {
   "cell_type": "code",
   "execution_count": 7,
   "metadata": {
    "id": "pNGh27ebZe8x"
   },
   "outputs": [],
   "source": [
    "import re\n",
    "\n",
    "def tokenize(text):\n",
    "    return ' '.join(re.findall('\\w+', text.lower()))\n",
    "\n",
    "data[text_columns] = data[text_columns].applymap(tokenize)"
   ]
  },
  {
   "cell_type": "markdown",
   "metadata": {
    "id": "HSSSLCO1Ze8x"
   },
   "source": [
    "Now we can assume that our text is a space-separated list of tokens:"
   ]
  },
  {
   "cell_type": "code",
   "execution_count": 8,
   "metadata": {
    "colab": {
     "base_uri": "https://localhost:8080/"
    },
    "executionInfo": {
     "elapsed": 18,
     "status": "ok",
     "timestamp": 1624451948453,
     "user": {
      "displayName": "Aleksey Shimko",
      "photoUrl": "",
      "userId": "06639583344500545085"
     },
     "user_tz": -180
    },
    "id": "iWpQuVt7Ze8x",
    "outputId": "33d24fe4-abd1-46dc-ef33-b77dba376912"
   },
   "outputs": [
    {
     "name": "stdout",
     "output_type": "stream",
     "text": [
      "Tokenized:\n",
      "2         mathematical modeller simulation analyst opera...\n",
      "100002    a successful and high achieving specialist sch...\n",
      "200002    web designer html css javascript photoshop ill...\n",
      "Name: FullDescription, dtype: object\n"
     ]
    }
   ],
   "source": [
    "print(\"Tokenized:\")\n",
    "print(data[\"FullDescription\"][2::100000])\n",
    "assert data[\"FullDescription\"][2][:50] == 'mathematical modeller simulation analyst operation'\n",
    "assert data[\"Title\"][54321] == 'international digital account manager german'"
   ]
  },
  {
   "cell_type": "markdown",
   "metadata": {},
   "source": [
    "Not all words are equally useful. Some of them are typos or rare words that are only present a few times.\n",
    "\n",
    "Let's count how many times is each word present in the data so that we can build a \"white list\" of known words."
   ]
  },
  {
   "cell_type": "code",
   "execution_count": 9,
   "metadata": {
    "id": "bVN-jztCZe8x"
   },
   "outputs": [],
   "source": [
    "from collections import Counter\n",
    "\n",
    "token_counts = Counter()\n",
    "# Count how many times does each token occur in both \"Title\" and \"FullDescription\" in total\n",
    "\n",
    "for col in text_columns:\n",
    "    for line in data[col].values:\n",
    "        token_counts.update(line.split(\" \"))"
   ]
  },
  {
   "cell_type": "code",
   "execution_count": 10,
   "metadata": {
    "colab": {
     "base_uri": "https://localhost:8080/"
    },
    "executionInfo": {
     "elapsed": 314,
     "status": "ok",
     "timestamp": 1624451959707,
     "user": {
      "displayName": "Aleksey Shimko",
      "photoUrl": "",
      "userId": "06639583344500545085"
     },
     "user_tz": -180
    },
    "id": "b-40HetcZe8y",
    "outputId": "2247cf66-4dba-4344-943b-bc87482043b7"
   },
   "outputs": [
    {
     "name": "stdout",
     "output_type": "stream",
     "text": [
      "Total unique tokens : 201698\n",
      "('and', 2657388)\n",
      "('the', 2080994)\n",
      "('to', 2019884)\n",
      "('a', 1521925)\n",
      "('of', 1426213)\n",
      "...\n",
      "('stephanietraveltraderecruitmnt', 1)\n",
      "('ruabon', 1)\n",
      "('lowehays', 1)\n",
      "Correct!\n"
     ]
    }
   ],
   "source": [
    "print(\"Total unique tokens :\", len(token_counts))\n",
    "print('\\n'.join(map(str, token_counts.most_common(n=5))))\n",
    "print('...')\n",
    "print('\\n'.join(map(str, token_counts.most_common()[-3:])))\n",
    "\n",
    "assert token_counts.most_common(1)[0][1] in  range(2600000, 2700000)\n",
    "assert len(token_counts) in range(200000, 210000)\n",
    "print('Correct!')"
   ]
  },
  {
   "cell_type": "code",
   "execution_count": 11,
   "metadata": {
    "colab": {
     "base_uri": "https://localhost:8080/",
     "height": 279
    },
    "executionInfo": {
     "elapsed": 611,
     "status": "ok",
     "timestamp": 1624451960316,
     "user": {
      "displayName": "Aleksey Shimko",
      "photoUrl": "",
      "userId": "06639583344500545085"
     },
     "user_tz": -180
    },
    "id": "GNCP31cKZe8y",
    "outputId": "47ec110e-6336-4510-8076-4b96853d89a9"
   },
   "outputs": [
    {
     "data": {
      "image/png": "[encoded data removed]",
      "text/plain": [
       "<Figure size 432x288 with 1 Axes>"
      ]
     },
     "metadata": {
      "needs_background": "light"
     },
     "output_type": "display_data"
    }
   ],
   "source": [
    "# Let's see how many words are there for each count\n",
    "plt.hist(list(token_counts.values()), range=[0, 10**4], bins=50, log=True)\n",
    "plt.xlabel(\"Word counts\");"
   ]
  },
  {
   "cell_type": "markdown",
   "metadata": {
    "id": "cIWo0dm5Ze8y"
   },
   "source": [
    "__Task 1.1__ Get a list of all tokens that occur at least 10 times."
   ]
  },
  {
   "cell_type": "code",
   "execution_count": 12,
   "metadata": {
    "id": "iUB3KExsZe8y"
   },
   "outputs": [],
   "source": [
    "min_count = 10\n",
    "\n",
    "# tokens from token_counts keys that had at least min_count occurrences throughout the dataset\n",
    "tokens = sorted(t for t, c in token_counts.items() if c >= min_count)\n",
    "\n",
    "# Add a special tokens for unknown and empty words\n",
    "UNK, PAD = \"UNK\", \"PAD\"\n",
    "tokens = [UNK, PAD] + tokens"
   ]
  },
  {
   "cell_type": "code",
   "execution_count": 13,
   "metadata": {
    "colab": {
     "base_uri": "https://localhost:8080/"
    },
    "executionInfo": {
     "elapsed": 15,
     "status": "ok",
     "timestamp": 1624451960317,
     "user": {
      "displayName": "Aleksey Shimko",
      "photoUrl": "",
      "userId": "06639583344500545085"
     },
     "user_tz": -180
    },
    "id": "kqDMQVGyZe8y",
    "outputId": "0b24fbe4-afb8-4b82-af42-48bbd2775f9a"
   },
   "outputs": [
    {
     "name": "stdout",
     "output_type": "stream",
     "text": [
      "Vocabulary size: 33816\n",
      "Correct!\n"
     ]
    }
   ],
   "source": [
    "print(\"Vocabulary size:\", len(tokens))\n",
    "assert type(tokens) == list\n",
    "assert len(tokens) in range(32000, 35000)\n",
    "assert 'me' in tokens\n",
    "assert UNK in tokens\n",
    "print(\"Correct!\")"
   ]
  },
  {
   "cell_type": "markdown",
   "metadata": {
    "id": "Z8JGwF9VZe8z"
   },
   "source": [
    "__Task 1.2__ Build an inverse token index: a dictionary from token(string) to it's index in `tokens` (int)"
   ]
  },
  {
   "cell_type": "code",
   "execution_count": 14,
   "metadata": {
    "id": "XcrdkC_RZe8z"
   },
   "outputs": [],
   "source": [
    "token_to_id = {t: i for i, t in enumerate(tokens)}"
   ]
  },
  {
   "cell_type": "code",
   "execution_count": 15,
   "metadata": {
    "colab": {
     "base_uri": "https://localhost:8080/"
    },
    "executionInfo": {
     "elapsed": 13,
     "status": "ok",
     "timestamp": 1624451960318,
     "user": {
      "displayName": "Aleksey Shimko",
      "photoUrl": "",
      "userId": "06639583344500545085"
     },
     "user_tz": -180
    },
    "id": "MrfWfH7MZe8z",
    "outputId": "1e0f9607-694e-400b-91a0-eaf671dbd912"
   },
   "outputs": [
    {
     "name": "stdout",
     "output_type": "stream",
     "text": [
      "Correct!\n"
     ]
    }
   ],
   "source": [
    "assert isinstance(token_to_id, dict)\n",
    "assert len(token_to_id) == len(tokens)\n",
    "for tok in tokens:\n",
    "    assert tokens[token_to_id[tok]] == tok\n",
    "\n",
    "print(\"Correct!\")"
   ]
  },
  {
   "cell_type": "markdown",
   "metadata": {
    "id": "wYj9cyTXZe8z"
   },
   "source": [
    "And finally, let's use the vocabulary you've built to map text lines into neural network-digestible matrices."
   ]
  },
  {
   "cell_type": "code",
   "execution_count": 16,
   "metadata": {
    "id": "ExQNSGMrZe8z"
   },
   "outputs": [],
   "source": [
    "UNK_IX, PAD_IX = map(token_to_id.get, [UNK, PAD])\n",
    "\n",
    "def as_matrix(sequences, max_len=8):\n",
    "    \"\"\" Convert a list of tokens into a matrix with padding \"\"\"\n",
    "    if isinstance(sequences[0], str):\n",
    "        sequences = list(map(str.split, sequences))\n",
    "\n",
    "    matrix = np.full((len(sequences), max_len), np.int32(PAD_IX))\n",
    "    for i,seq in enumerate(sequences):\n",
    "        row_ix = [token_to_id.get(word, UNK_IX) for word in seq[:max_len]]\n",
    "        matrix[i, :len(row_ix)] = row_ix\n",
    "    \n",
    "    return matrix"
   ]
  },
  {
   "cell_type": "code",
   "execution_count": 17,
   "metadata": {
    "colab": {
     "base_uri": "https://localhost:8080/"
    },
    "executionInfo": {
     "elapsed": 10,
     "status": "ok",
     "timestamp": 1624451960319,
     "user": {
      "displayName": "Aleksey Shimko",
      "photoUrl": "",
      "userId": "06639583344500545085"
     },
     "user_tz": -180
    },
    "id": "5bd1OxoyZe80",
    "outputId": "725f51df-76bd-4758-f176-6da347d8d021"
   },
   "outputs": [
    {
     "name": "stdout",
     "output_type": "stream",
     "text": [
      "Lines:\n",
      "engineering systems analyst\n",
      "hr assistant\n",
      "senior ec i engineer\n",
      "\n",
      "Matrix:\n",
      "[[10527 29881  1886     1     1     1     1     1]\n",
      " [14740  2564     1     1     1     1     1     1]\n",
      " [27365  9921 14935 10524     1     1     1     1]]\n"
     ]
    }
   ],
   "source": [
    "print(\"Lines:\")\n",
    "print('\\n'.join(data[\"Title\"][::100000].values), end='\\n\\n')\n",
    "print(\"Matrix:\")\n",
    "print(as_matrix(data[\"Title\"][::100000]))"
   ]
  },
  {
   "cell_type": "markdown",
   "metadata": {
    "id": "DsXCKzrUZe80"
   },
   "source": [
    "Now let's  encode the categirical data we have.\n",
    "\n",
    "As usual, we shall use one-hot encoding for simplicity. Kudos if you implement more advanced encodings: tf-idf, pseudo-time-series, etc."
   ]
  },
  {
   "cell_type": "code",
   "execution_count": 18,
   "metadata": {
    "colab": {
     "base_uri": "https://localhost:8080/"
    },
    "executionInfo": {
     "elapsed": 6266,
     "status": "ok",
     "timestamp": 1624451966578,
     "user": {
      "displayName": "Aleksey Shimko",
      "photoUrl": "",
      "userId": "06639583344500545085"
     },
     "user_tz": -180
    },
    "id": "cr-qdrh3Ze81",
    "outputId": "4d64bcee-2d36-4b76-c317-d44759dce874"
   },
   "outputs": [
    {
     "data": {
      "text/plain": [
       "DictVectorizer(dtype=<class 'numpy.float32'>, sparse=False)"
      ]
     },
     "execution_count": 18,
     "metadata": {},
     "output_type": "execute_result"
    }
   ],
   "source": [
    "from sklearn.feature_extraction import DictVectorizer\n",
    "\n",
    "# we only consider top-1k most frequent companies to minimize memory usage\n",
    "top_companies, top_counts = zip(*Counter(data['Company']).most_common(1000))\n",
    "recognized_companies = set(top_companies)\n",
    "data[\"Company\"] = data[\"Company\"].apply(lambda comp: comp if comp in recognized_companies else \"Other\")\n",
    "\n",
    "categorical_vectorizer = DictVectorizer(dtype=np.float32, sparse=False)\n",
    "categorical_vectorizer.fit(data[categorical_columns].apply(dict, axis=1))"
   ]
  },
  {
   "cell_type": "markdown",
   "metadata": {
    "id": "mJDgbkHZZe81"
   },
   "source": [
    "### The deep learning part\n",
    "\n",
    "Once we've learned to tokenize the data, let's design a machine learning experiment.\n",
    "\n",
    "As before, we won't focus too much on validation, opting for a simple train-test split.\n",
    "\n",
    "__To be completely rigorous,__ we've comitted a small crime here: we used the whole data for tokenization and vocabulary building. A more strict way would be to do that part on training set only. You may want to do that and measure the magnitude of changes."
   ]
  },
  {
   "cell_type": "code",
   "execution_count": 19,
   "metadata": {
    "colab": {
     "base_uri": "https://localhost:8080/"
    },
    "executionInfo": {
     "elapsed": 18,
     "status": "ok",
     "timestamp": 1624451966578,
     "user": {
      "displayName": "Aleksey Shimko",
      "photoUrl": "",
      "userId": "06639583344500545085"
     },
     "user_tz": -180
    },
    "id": "3sURw9HXZe81",
    "outputId": "39c9d1dc-07f4-4ab3-d5a8-2663b7e0ff6f"
   },
   "outputs": [
    {
     "name": "stdout",
     "output_type": "stream",
     "text": [
      "Train size = 220291\n",
      "Validation size = 24477\n"
     ]
    }
   ],
   "source": [
    "from sklearn.model_selection import train_test_split\n",
    "\n",
    "data_train, data_val = train_test_split(data, test_size=0.1, random_state=77)\n",
    "data_train.index = range(len(data_train))\n",
    "data_val.index = range(len(data_val))\n",
    "\n",
    "print(\"Train size =\", len(data_train))\n",
    "print(\"Validation size =\", len(data_val))"
   ]
  },
  {
   "cell_type": "code",
   "execution_count": 20,
   "metadata": {
    "id": "Il8wpyN1Ze81"
   },
   "outputs": [],
   "source": [
    "import torch\n",
    "\n",
    "def to_tensors(batch, device):\n",
    "    batch_tensors = dict()\n",
    "    for key, arr in batch.items():\n",
    "        if key in [\"FullDescription\", \"Title\"]:\n",
    "            batch_tensors[key] = torch.tensor(arr, device=device, dtype=torch.int64)\n",
    "        else:\n",
    "            batch_tensors[key] = torch.tensor(arr, device=device)\n",
    "    return batch_tensors\n",
    "\n",
    "def make_batch(data, max_lens=(8, 64), word_dropout=0, device=torch.device('cpu')):\n",
    "    \"\"\"\n",
    "    Creates a keras-friendly dict from the batch data.\n",
    "    :param word_dropout: replaces token index with UNK_IX with this probability\n",
    "    :returns: a dict with {'title' : int64[batch, title_max_len]\n",
    "    \"\"\"\n",
    "    batch = {\"Title\": as_matrix(data[\"Title\"].values, max_lens[0]),\n",
    "             \"FullDescription\": as_matrix(data[\"FullDescription\"].values, max_lens[1]),\n",
    "             'Categorical': categorical_vectorizer.transform(data[categorical_columns].apply(dict, axis=1))}\n",
    "\n",
    "    if word_dropout != 0:\n",
    "        batch[\"FullDescription\"] = apply_word_dropout(batch[\"FullDescription\"], 1. - word_dropout)\n",
    "    \n",
    "    if TARGET_COLUMN in data.columns:\n",
    "        batch[TARGET_COLUMN] = data[TARGET_COLUMN].values\n",
    "    \n",
    "    return to_tensors(batch, device)\n",
    "\n",
    "def apply_word_dropout(matrix, keep_prop, replace_with=UNK_IX, pad_ix=PAD_IX,):\n",
    "    dropout_mask = np.random.choice(2, np.shape(matrix), p=[keep_prop, 1 - keep_prop])\n",
    "    dropout_mask &= matrix != pad_ix\n",
    "    return np.choose(dropout_mask, [matrix, np.full_like(matrix, replace_with)])"
   ]
  },
  {
   "cell_type": "code",
   "execution_count": 21,
   "metadata": {
    "colab": {
     "base_uri": "https://localhost:8080/"
    },
    "executionInfo": {
     "elapsed": 399,
     "status": "ok",
     "timestamp": 1624451970485,
     "user": {
      "displayName": "Aleksey Shimko",
      "photoUrl": "",
      "userId": "06639583344500545085"
     },
     "user_tz": -180
    },
    "id": "dRKoBF_gZe82",
    "outputId": "aadc0cf5-8e62-4008-a968-e7e0b26bb085",
    "scrolled": true
   },
   "outputs": [
    {
     "data": {
      "text/plain": [
       "{'Title': tensor([[27365, 26706,  1307, 10912,  1420,     1,     1,     1],\n",
       "         [27000, 13370, 30129,  2564,     1,     1,     1,     1],\n",
       "         [ 4706,  8803, 18584,     1,     1,     1,     1,     1]]),\n",
       " 'FullDescription': tensor([[32657, 30820, 33384, 12307,   702, 17473, 10912,  1413,  7830, 32980,\n",
       "          13966,  1862, 11120, 21676, 12307,  1862, 10912,  1420, 30820, 16618,\n",
       "            702,  9800, 29453,  1909, 13565, 10912,  1413, 15274, 21525, 21354,\n",
       "          21929,  4745, 21382, 30466, 29453, 26706,  1307, 33155,  3362, 11283,\n",
       "           1909, 31990, 30820,   981,  1909, 11110, 30026, 33286, 10912,  1413,\n",
       "          11278,  2409,   702, 26706,  1307, 20543, 33483,  3362, 25729, 12307,\n",
       "          30567, 26341, 26706, 20544],\n",
       "         [ 2292, 33716,   702, 13370, 33274,   702,   223, 21741, 27000,  3267,\n",
       "           8465,  9332, 33716, 13966,   702, 29272,   837, 25078,  2640, 12962,\n",
       "           1909,  1594, 33483, 33716, 17797, 30820, 12806, 11278, 33409,  2409,\n",
       "            702, 30129,  2564, 29892, 15274,  1862, 21993, 21410,   229, 27165,\n",
       "          26995, 30820, 29613,  1909,  4062, 33723,  2132, 12307,   702, 22869,\n",
       "          30567, 16171, 30466, 16546, 12307, 33716, 30129,  2564,   223, 21741,\n",
       "            229,    51, 27000, 13370],\n",
       "         [33716, 33155, 30043, 33274,  2722, 20613, 11032,  6871, 30820, 11013,\n",
       "            795, 30466,  4706,  1909, 16302, 24170, 33716, 33155,  3362, 25729,\n",
       "          30820,  4595, 29272, 25454, 33274, 23475,  6143, 18528, 30481,  2941,\n",
       "          21354, 30466,  6620,  4230,  1909, 14715, 33716,  4967, 14178, 30477,\n",
       "           4706, 33716, 33155,  3362, 27332, 30477,  7294, 24000,  1909, 27484,\n",
       "          30820, 20638,  4717,  1909, 30491, 18503, 30466, 21542, 25451, 30820,\n",
       "          10600, 12769, 26008, 29220]]),\n",
       " 'Categorical': tensor([[0., 0., 0.,  ..., 0., 0., 0.],\n",
       "         [0., 0., 0.,  ..., 0., 0., 0.],\n",
       "         [0., 0., 0.,  ..., 0., 0., 0.]]),\n",
       " 'Log1pSalary': tensor([10.5967,  9.5325, 10.4631])}"
      ]
     },
     "execution_count": 21,
     "metadata": {},
     "output_type": "execute_result"
    }
   ],
   "source": [
    "make_batch(data_train[:3])"
   ]
  },
  {
   "cell_type": "markdown",
   "metadata": {
    "id": "J8f9-Y01Ze82"
   },
   "source": [
    "#### Architecture\n",
    "\n",
    "Our basic model consists of three branches:\n",
    "* Title encoder\n",
    "* Description encoder\n",
    "* Categorical features encoder\n",
    "\n",
    "We will then feed all 3 branches into one common network that predicts salary.\n",
    "\n",
    "![scheme](https://github.com/yandexdataschool/nlp_course/raw/master/resources/w2_conv_arch.png)"
   ]
  },
  {
   "cell_type": "markdown",
   "metadata": {
    "id": "x-zT-Hu_Ze82"
   },
   "source": [
    "This clearly doesn't fit into keras' __Sequential__ interface. To build such a network, one will have to use PyTorch."
   ]
  },
  {
   "cell_type": "code",
   "execution_count": 22,
   "metadata": {
    "id": "obkMJ46pZe83"
   },
   "outputs": [],
   "source": [
    "import torch\n",
    "import torch.nn as nn"
   ]
  },
  {
   "cell_type": "code",
   "execution_count": 23,
   "metadata": {
    "id": "F4LgLJtEZe83"
   },
   "outputs": [],
   "source": [
    "class SalaryPredictor(nn.Module):\n",
    "    def __init__(self,\n",
    "                 n_tokens=len(tokens),\n",
    "                 n_cat_features=len(categorical_vectorizer.vocabulary_),\n",
    "                 hid_size=8):\n",
    "        super().__init__()\n",
    "        self.hid_size = hid_size\n",
    "        self.n_tokens = n_tokens\n",
    "        self.n_cat_features = n_cat_features\n",
    "\n",
    "        self.embedder = nn.Embedding(self.n_tokens, self.hid_size)\n",
    "        self.title_encoder = nn.Sequential(\n",
    "            nn.Conv1d(self.hid_size, self.hid_size, kernel_size=(2, )),\n",
    "            nn.Dropout(p=0.25),\n",
    "            nn.ReLU(),\n",
    "            nn.AdaptiveMaxPool1d(output_size=1)\n",
    "        )\n",
    "        self.description_encoder = nn.Sequential(\n",
    "            nn.Conv1d(self.hid_size, self.hid_size, kernel_size=(2, )),\n",
    "            nn.Dropout(p=0.25),\n",
    "            nn.ReLU(),\n",
    "            nn.AdaptiveMaxPool1d(output_size=1)\n",
    "        )\n",
    "        self.categorical_encoder = nn.Sequential(\n",
    "            nn.Linear(self.n_cat_features, self.hid_size * 2),\n",
    "            nn.ReLU(),\n",
    "            nn.Linear(self.hid_size * 2, self.hid_size * 2),\n",
    "            nn.ReLU()\n",
    "        )\n",
    "        self.final_predictor = nn.Sequential(\n",
    "            nn.Linear(self.hid_size * 4, self.hid_size),\n",
    "            nn.ReLU(),\n",
    "            nn.Linear(self.hid_size, 1)\n",
    "        )\n",
    "\n",
    "    def forward(self, batch):\n",
    "        title_embeddings = self.embedder(batch['Title']).permute(0, 2, 1)\n",
    "        title_features = self.title_encoder(title_embeddings).squeeze()\n",
    "\n",
    "        description_embeddings = self.embedder(batch['FullDescription']).permute(0, 2, 1)\n",
    "        description_features = self.description_encoder(description_embeddings).squeeze()\n",
    "\n",
    "        categorical_features = self.categorical_encoder(batch['Categorical'])\n",
    "\n",
    "        features = torch.cat(\n",
    "            [title_features, description_features, categorical_features], dim=1)\n",
    "\n",
    "        return self.final_predictor(features).squeeze()"
   ]
  },
  {
   "cell_type": "code",
   "execution_count": 25,
   "metadata": {
    "id": "JBS7PlCrZe83"
   },
   "outputs": [],
   "source": [
    "model = SalaryPredictor()\n",
    "batch = make_batch(data_train[:100])\n",
    "criterion = nn.MSELoss()\n",
    "\n",
    "dummy_pred = model(batch)\n",
    "dummy_loss = criterion(dummy_pred, batch[TARGET_COLUMN])\n",
    "assert dummy_pred.shape == torch.Size([100])\n",
    "assert len(np.unique(dummy_pred.detach().numpy())) > 20, \"model returns suspiciously few unique outputs. Check your initialization\"\n",
    "assert dummy_loss.ndim == 0 and 0. <= dummy_loss <= 250., \"make sure you minimize MSE\""
   ]
  },
  {
   "cell_type": "markdown",
   "metadata": {
    "id": "WmImJv70Ze83"
   },
   "source": [
    "#### Training and evaluation\n",
    "\n",
    "As usual, we gonna feed our monster with random minibatches of data. \n",
    "\n",
    "As we train, we want to monitor not only loss function, which is computed in log-space, but also the actual error measured in dollars."
   ]
  },
  {
   "cell_type": "code",
   "execution_count": 24,
   "metadata": {
    "id": "lBwOV5duZe84"
   },
   "outputs": [],
   "source": [
    "from tqdm.notebook import trange\n",
    "\n",
    "def iterate_minibatches(data, batch_size=256, shuffle=True, cycle=False, tqdm=True, **kwargs):\n",
    "    \"\"\" iterates minibatches of data in random order \"\"\"\n",
    "    while True:\n",
    "        indices = np.arange(len(data))\n",
    "        if shuffle:\n",
    "            indices = np.random.permutation(indices)\n",
    "\n",
    "        id_range = trange(0, len(indices), batch_size) if tqdm else range(0, len(indices), batch_size)\n",
    "        for start in id_range:\n",
    "            batch = make_batch(data.iloc[indices[start : start + batch_size]], **kwargs)\n",
    "            yield batch\n",
    "        \n",
    "        if not cycle:\n",
    "            break"
   ]
  },
  {
   "cell_type": "markdown",
   "metadata": {
    "id": "H7ExfuFkZe84"
   },
   "source": [
    "### Model training\n",
    "\n",
    "We can now fit our model the usual minibatch way. The interesting part is that we train on an infinite stream of minibatches, produced by `iterate_minibatches` function."
   ]
  },
  {
   "cell_type": "code",
   "execution_count": 25,
   "metadata": {
    "id": "qNW1PL0mZe84"
   },
   "outputs": [],
   "source": [
    "BATCH_SIZE = 128\n",
    "VECTOR_SIZES = (8, 64)\n",
    "EPOCHS = 3\n",
    "DEVICE = torch.device('cpu')"
   ]
  },
  {
   "cell_type": "code",
   "execution_count": 26,
   "metadata": {
    "id": "Bsu0gequZe84"
   },
   "outputs": [],
   "source": [
    "def metrics(model, data, batch_size=BATCH_SIZE, **kw):\n",
    "    squared_error = abs_error = num_samples = 0.0\n",
    "    model.eval()\n",
    "    with torch.no_grad():\n",
    "        for batch in iterate_minibatches(data, batch_size=batch_size, shuffle=False, tqdm=False, **kw):\n",
    "            batch_pred = model(batch)\n",
    "            squared_error += torch.mean(torch.square(batch_pred - batch[TARGET_COLUMN]))\n",
    "            abs_error += torch.mean(torch.abs(batch_pred - batch[TARGET_COLUMN]))\n",
    "            num_samples += len(batch)\n",
    "    mse = squared_error.detach().cpu().numpy() / num_samples\n",
    "    mae = abs_error.detach().cpu().numpy() / num_samples\n",
    "    return mse, mae"
   ]
  },
  {
   "cell_type": "code",
   "execution_count": 27,
   "metadata": {
    "colab": {
     "base_uri": "https://localhost:8080/",
     "height": 1000,
     "referenced_widgets": [
      "3a34a95aa682439fbce7c40ac232bfa3",
      "30902776c0564143a69d7b6ebf0fe9b9",
      "b5308c327f5c4395852638002e93312a",
      "1c6445766414415e99ac32fb94686dca",
      "7b79ef9602d041acada88a1e3e75fa7f",
      "df3fe642b3184ce89286cd052f047cbd",
      "d32c4d65bc164e30aca844c670363ae3",
      "995b4b20bd094ab4b5a3d2027c45fdca",
      "6505bbb46d7f4ffa9794fde8861cd8fb",
      "03bbe0d4b0524a85be49a1b119aaa66a",
      "0f5b3da7508f461595456f1316465dae",
      "b6d38ddc1e4948c9b98a6d79c18cd5a5",
      "b2b39e59a46a4338bc75afd376e69931",
      "b680fa64dc604e6d94697242310428e9",
      "4722c85bb02b4291a90e6402d86397fa",
      "c34336639978471f8e0f6aa78e1955ff",
      "a2b99faed0f54678811698f312ed80a4",
      "df9c2a9f3fe04519853a361700e3c056",
      "421c51a1bf9d4be4ad8c445ad5c6fce8",
      "73e5ea94ed2c45f5b25d1281f66b59bf",
      "cc9eef35c7da4872bac60bd46110fa04",
      "98b0239d3c6c4c8ca82d0f7cb96734fe",
      "2dae3fd3baad438aa9436206e741ac38",
      "af9922f672f54841b5acb1379534d1e5"
     ]
    },
    "executionInfo": {
     "elapsed": 301404,
     "status": "ok",
     "timestamp": 1624452272144,
     "user": {
      "displayName": "Aleksey Shimko",
      "photoUrl": "",
      "userId": "06639583344500545085"
     },
     "user_tz": -180
    },
    "id": "guTdyDx1Ze84",
    "outputId": "e5686c5f-efba-4a6e-f161-4672ddaf92f8"
   },
   "outputs": [
    {
     "name": "stdout",
     "output_type": "stream",
     "text": [
      "Epoch 0\n"
     ]
    },
    {
     "data": {
      "application/vnd.jupyter.widget-view+json": {
       "model_id": "cdaf6bdbb1734bc3aefcd8982a4da80a",
       "version_major": 2,
       "version_minor": 0
      },
      "text/plain": [
       "  0%|          | 0/1722 [00:00<?, ?it/s]"
      ]
     },
     "metadata": {},
     "output_type": "display_data"
    },
    {
     "name": "stdout",
     "output_type": "stream",
     "text": [
      "Train Loss 0.2450\n",
      "Mean square error 0.3443\n",
      "Mean absolute error 0.2767\n",
      "Epoch 1\n"
     ]
    },
    {
     "data": {
      "application/vnd.jupyter.widget-view+json": {
       "model_id": "9f342752433743ddac31c2d714bcc978",
       "version_major": 2,
       "version_minor": 0
      },
      "text/plain": [
       "  0%|          | 0/1722 [00:00<?, ?it/s]"
      ]
     },
     "metadata": {},
     "output_type": "display_data"
    },
    {
     "name": "stdout",
     "output_type": "stream",
     "text": [
      "Train Loss 0.1246\n",
      "Mean square error 0.1699\n",
      "Mean absolute error 0.1881\n",
      "Epoch 2\n"
     ]
    },
    {
     "data": {
      "application/vnd.jupyter.widget-view+json": {
       "model_id": "5adf2a997b8b4c66b00743ffd49db2e1",
       "version_major": 2,
       "version_minor": 0
      },
      "text/plain": [
       "  0%|          | 0/1722 [00:00<?, ?it/s]"
      ]
     },
     "metadata": {},
     "output_type": "display_data"
    },
    {
     "name": "stdout",
     "output_type": "stream",
     "text": [
      "Train Loss 0.2725\n",
      "Mean square error 0.1086\n",
      "Mean absolute error 0.1460\n"
     ]
    }
   ],
   "source": [
    "from torch.utils.tensorboard import SummaryWriter\n",
    "\n",
    "def train(model, batch_size, epochs, device, vector_sizes, logdir='.'):\n",
    "    writer = SummaryWriter(log_dir=f'runs/{logdir}')\n",
    "    model = model.to(device)\n",
    "    criterion = nn.MSELoss(reduction='mean')\n",
    "    optimizer = torch.optim.Adam(model.parameters(), lr=1e-3)\n",
    "    one_epoch_n_iterates = len(data_train) / batch_size\n",
    "\n",
    "    for epoch in range(epochs):\n",
    "        print(f\"Epoch {epoch}\")\n",
    "        for i, batch in enumerate(\n",
    "                iterate_minibatches(data_train, batch_size=batch_size, device=device, max_lens=vector_sizes)):\n",
    "            model.train()\n",
    "            pred = model(batch)\n",
    "            optimizer.zero_grad()\n",
    "            loss = criterion(pred, batch[TARGET_COLUMN])\n",
    "            loss.backward()\n",
    "            optimizer.step()\n",
    "\n",
    "            writer.add_scalar(f'train/loss', loss.item(), i + epoch * one_epoch_n_iterates)\n",
    "\n",
    "            if i % 100 == 99:\n",
    "                mse, mae = metrics(model, data_val, batch_size=batch_size, device=device, max_lens=vector_sizes)\n",
    "                writer.add_scalar(f'val/Mean square error', mse,\n",
    "                                  i + epoch * one_epoch_n_iterates)\n",
    "                writer.add_scalar(f'val/Mean absolute error', mae,\n",
    "                                  i + epoch * one_epoch_n_iterates)\n",
    "        print(f'Train Loss {loss.item():.4f}')\n",
    "        print(f'Mean square error {mse:.4f}')\n",
    "        print(f'Mean absolute error {mae:.4f}')\n",
    "\n",
    "model = SalaryPredictor()\n",
    "train(model, BATCH_SIZE, EPOCHS, DEVICE, VECTOR_SIZES, 'SalaryPredictor')"
   ]
  },
  {
   "cell_type": "markdown",
   "metadata": {
    "pycharm": {
     "is_executing": true,
     "name": "#%% md\n"
    }
   },
   "source": [
    "**Выводы:** Salary Predictor - baseline (1 сверточный слой + dropout) для задачи, сходится достаточно хорошо и быстро при 8 нейронах в скрытых слоях, за 3 эпохи MSE падает до **0.11**.\n",
    "[Графики для Salary Predictor.](https://tensorboard.dev/experiment/sOyIrKlBRTGmYkrSvh9p4g/#scalars&runSelectionState=eyJTYWxhcnlQcmVkaWN0b3IiOnRydWUsIlNhbGFyeVByZWRpY3RvckF0dGVudGl2ZVBvb2xpbmciOmZhbHNlLCJTYWxhcnlQcmVkaWN0b3JBdmdQb29sIjpmYWxzZSwiU2FsYXJ5UHJlZGljdG9yQmF0Y2hOb3JtIjpmYWxzZSwiU2FsYXJ5UHJlZGljdG9yQmlkaXJlY3Rpb25hbExTVE0iOmZhbHNlLCJTYWxhcnlQcmVkaWN0b3JFYXJseVN0b3BwaW5nIjpmYWxzZSwiU2FsYXJ5UHJlZGljdG9yTFNUTSI6ZmFsc2UsIlNhbGFyeVByZWRpY3RvckxheWVyTm9ybSI6ZmFsc2UsIlNhbGFyeVByZWRpY3Rvck1heFBvb2wiOmZhbHNlLCJTYWxhcnlQcmVkaWN0b3JQYXJhbGxlbENvbnYiOmZhbHNlLCJTYWxhcnlQcmVkaWN0b3JQcmV0cmFpbmVkRW1iZWRkaW5ncyI6ZmFsc2UsIlNhbGFyeVByZWRpY3RvclByZXRyYWluZWRFbWJlZGRpbmdzVHJhaW5lZFdlaWdodHMiOmZhbHNlLCJTYWxhcnlQcmVkaWN0b3JSYW5kb21Gb3Jlc3QiOmZhbHNlLCJTYWxhcnlQcmVkaWN0b3JTb2Z0bWF4UG9vbGluZyI6ZmFsc2UsIlNhbGFyeVByZWRpY3RvclN0YWNrTW9yZUxheWVycyI6ZmFsc2V9)"
   ]
  },
  {
   "cell_type": "markdown",
   "metadata": {},
   "source": [
    "**1. Развейте СNN архитектуру (2 балла)**\n",
    "\n",
    "Добавьте в пайплайн\n",
    "\n",
    "*   Batch Norm (nn.BatchNorm), LayerNorm...\n",
    "*   Параллельные сверточные слои. Идея в том, чтобы применить несколько nn.Conv1d к одному и тому же эмбеддингу и после этого сконкатенировать выходные каналы\n",
    "*   Больше слоев...\n",
    "*   Добавьте раннюю остановку\n",
    "\n",
    "На каких примерах модели ведут себя максимально различно/похоже? Предположите с чем это может быть связано.\n",
    "\n",
    "Как модель ведет себя в зависимости от количества обучаемых параметров?\n",
    "\n",
    "**Выводы и [Графики](https://tensorboard.dev/experiment/sOyIrKlBRTGmYkrSvh9p4g/#scalars&runSelectionState=eyJTYWxhcnlQcmVkaWN0b3IiOmZhbHNlLCJTYWxhcnlQcmVkaWN0b3JBdHRlbnRpdmVQb29saW5nIjpmYWxzZSwiU2FsYXJ5UHJlZGljdG9yQXZnUG9vbCI6ZmFsc2UsIlNhbGFyeVByZWRpY3RvckJhdGNoTm9ybSI6dHJ1ZSwiU2FsYXJ5UHJlZGljdG9yQmlkaXJlY3Rpb25hbExTVE0iOmZhbHNlLCJTYWxhcnlQcmVkaWN0b3JFYXJseVN0b3BwaW5nIjp0cnVlLCJTYWxhcnlQcmVkaWN0b3JMU1RNIjpmYWxzZSwiU2FsYXJ5UHJlZGljdG9yTGF5ZXJOb3JtIjp0cnVlLCJTYWxhcnlQcmVkaWN0b3JNYXhQb29sIjpmYWxzZSwiU2FsYXJ5UHJlZGljdG9yUGFyYWxsZWxDb252Ijp0cnVlLCJTYWxhcnlQcmVkaWN0b3JQcmV0cmFpbmVkRW1iZWRkaW5ncyI6ZmFsc2UsIlNhbGFyeVByZWRpY3RvclByZXRyYWluZWRFbWJlZGRpbmdzVHJhaW5lZFdlaWdodHMiOmZhbHNlLCJTYWxhcnlQcmVkaWN0b3JSYW5kb21Gb3Jlc3QiOmZhbHNlLCJTYWxhcnlQcmVkaWN0b3JTb2Z0bWF4UG9vbGluZyI6ZmFsc2UsIlNhbGFyeVByZWRpY3RvclN0YWNrTW9yZUxheWVycyI6dHJ1ZX0%3D):**\n",
    "    \n",
    "    1) Нормализация заметно улучшает сходимость (см. графики), несмотря на большую ошибку в начале. За 3 эпохи MSE уменьшается до **0.027** для BatchNorm и LayerNorm. С LayerNorm обучение проходит немного лучше.\n",
    "    2) Параллельные сверточные слои не влияют существенно на процесс обучения модели. MSE **0.08**.\n",
    "    3) Больше слоев также добавляет еще большую сложность, слишком усложняя модель для текущей задачи. Минимальный MSE **0.11**. Большая сложность ведет к переобучению - уже на 3 эпохе ошибка начинает расти.\n",
    "    4) Ранняя остановка показывает необходимое кол-во эпох. **5** эпох необходимо для baseline модели, чтобы достигнуть инимальный MSE **0.10**.\n"
   ]
  },
  {
   "cell_type": "code",
   "execution_count": 30,
   "metadata": {
    "pycharm": {
     "name": "#%%\n"
    }
   },
   "outputs": [
    {
     "name": "stdout",
     "output_type": "stream",
     "text": [
      "Epoch 0\n"
     ]
    },
    {
     "data": {
      "application/vnd.jupyter.widget-view+json": {
       "model_id": "a690d58c5a0a4403827e1f353a76f06e",
       "version_major": 2,
       "version_minor": 0
      },
      "text/plain": [
       "  0%|          | 0/1722 [00:00<?, ?it/s]"
      ]
     },
     "metadata": {},
     "output_type": "display_data"
    },
    {
     "name": "stdout",
     "output_type": "stream",
     "text": [
      "Train Loss 2.7002\n",
      "Mean square error 0.0425\n",
      "Mean absolute error 0.0809\n",
      "Epoch 1\n"
     ]
    },
    {
     "data": {
      "application/vnd.jupyter.widget-view+json": {
       "model_id": "6a1155858db44ce3b34d8910c69314c6",
       "version_major": 2,
       "version_minor": 0
      },
      "text/plain": [
       "  0%|          | 0/1722 [00:00<?, ?it/s]"
      ]
     },
     "metadata": {},
     "output_type": "display_data"
    },
    {
     "name": "stdout",
     "output_type": "stream",
     "text": [
      "Train Loss 0.1186\n",
      "Mean square error 0.0349\n",
      "Mean absolute error 0.0726\n",
      "Epoch 2\n"
     ]
    },
    {
     "data": {
      "application/vnd.jupyter.widget-view+json": {
       "model_id": "4343d84a53134435b9400b577762d6b5",
       "version_major": 2,
       "version_minor": 0
      },
      "text/plain": [
       "  0%|          | 0/1722 [00:00<?, ?it/s]"
      ]
     },
     "metadata": {},
     "output_type": "display_data"
    },
    {
     "name": "stdout",
     "output_type": "stream",
     "text": [
      "Train Loss 0.3912\n",
      "Mean square error 0.0272\n",
      "Mean absolute error 0.0629\n"
     ]
    }
   ],
   "source": [
    "class SalaryPredictorNorm(SalaryPredictor):\n",
    "    def __init__(self, is_layer_norm=False):\n",
    "        super().__init__()\n",
    "        self.is_layer_norm = is_layer_norm\n",
    "\n",
    "        self.title_encoder = nn.Sequential(\n",
    "            nn.Conv1d(self.hid_size, self.hid_size, kernel_size=(2, )),\n",
    "            self.layer_norm(self.hid_size, 8-1),\n",
    "            nn.Dropout(p=0.25),\n",
    "            nn.ReLU(),\n",
    "            nn.AdaptiveMaxPool1d(output_size=1)\n",
    "        )\n",
    "        self.description_encoder = nn.Sequential(\n",
    "            nn.Conv1d(self.hid_size, self.hid_size, kernel_size=(2, )),\n",
    "            self.layer_norm(self.hid_size, 64-1),\n",
    "            nn.Dropout(p=0.25),\n",
    "            nn.ReLU(),\n",
    "            nn.AdaptiveMaxPool1d(output_size=1)\n",
    "        )\n",
    "        self.categorical_encoder = nn.Sequential(\n",
    "            nn.Linear(self.n_cat_features, self.hid_size * 2),\n",
    "            self.layer_norm(self.hid_size * 2, 0),\n",
    "            nn.ReLU(),\n",
    "            nn.Linear(self.hid_size * 2, self.hid_size * 2),\n",
    "            self.layer_norm(self.hid_size * 2, 0),\n",
    "            nn.ReLU()\n",
    "        )\n",
    "        self.final_predictor = nn.Sequential(\n",
    "            nn.Linear(self.hid_size * 4, self.hid_size),\n",
    "            self.layer_norm(self.hid_size, 0),\n",
    "            nn.ReLU(),\n",
    "            nn.Linear(self.hid_size, 1)\n",
    "        )\n",
    "\n",
    "    def layer_norm(self, a, b):\n",
    "        if self.is_layer_norm:\n",
    "            if b:\n",
    "                return nn.LayerNorm([a, b])\n",
    "            return nn.LayerNorm(a)\n",
    "        return nn.BatchNorm1d(a)\n",
    "\n",
    "model = SalaryPredictorNorm()\n",
    "train(model, BATCH_SIZE, EPOCHS, DEVICE, VECTOR_SIZES, 'SalaryPredictorBatchNorm')"
   ]
  },
  {
   "cell_type": "code",
   "execution_count": 34,
   "metadata": {
    "pycharm": {
     "name": "#%%\n"
    }
   },
   "outputs": [
    {
     "name": "stdout",
     "output_type": "stream",
     "text": [
      "Epoch 0\n"
     ]
    },
    {
     "data": {
      "application/vnd.jupyter.widget-view+json": {
       "model_id": "1fd70d65f69d484d9a34c87a520b9540",
       "version_major": 2,
       "version_minor": 0
      },
      "text/plain": [
       "  0%|          | 0/1722 [00:00<?, ?it/s]"
      ]
     },
     "metadata": {},
     "output_type": "display_data"
    },
    {
     "name": "stdout",
     "output_type": "stream",
     "text": [
      "Train Loss 0.1890\n",
      "Mean square error 0.0607\n",
      "Mean absolute error 0.0989\n",
      "Epoch 1\n"
     ]
    },
    {
     "data": {
      "application/vnd.jupyter.widget-view+json": {
       "model_id": "d7ff043d49cf40a29fa5d8334c84c695",
       "version_major": 2,
       "version_minor": 0
      },
      "text/plain": [
       "  0%|          | 0/1722 [00:00<?, ?it/s]"
      ]
     },
     "metadata": {},
     "output_type": "display_data"
    },
    {
     "name": "stdout",
     "output_type": "stream",
     "text": [
      "Train Loss 0.0565\n",
      "Mean square error 0.0360\n",
      "Mean absolute error 0.0732\n",
      "Epoch 2\n"
     ]
    },
    {
     "data": {
      "application/vnd.jupyter.widget-view+json": {
       "model_id": "71ce0efd38ba42678d2f6253dbf2b72c",
       "version_major": 2,
       "version_minor": 0
      },
      "text/plain": [
       "  0%|          | 0/1722 [00:00<?, ?it/s]"
      ]
     },
     "metadata": {},
     "output_type": "display_data"
    },
    {
     "name": "stdout",
     "output_type": "stream",
     "text": [
      "Train Loss 0.2655\n",
      "Mean square error 0.0274\n",
      "Mean absolute error 0.0625\n"
     ]
    }
   ],
   "source": [
    "model_norm = SalaryPredictorNorm(is_layer_norm=True)\n",
    "train(model_norm, BATCH_SIZE, EPOCHS, DEVICE, VECTOR_SIZES, 'SalaryPredictorLayerNorm')"
   ]
  },
  {
   "cell_type": "code",
   "execution_count": 33,
   "metadata": {
    "pycharm": {
     "name": "#%%\n"
    }
   },
   "outputs": [
    {
     "name": "stdout",
     "output_type": "stream",
     "text": [
      "Epoch 0\n"
     ]
    },
    {
     "data": {
      "application/vnd.jupyter.widget-view+json": {
       "model_id": "9b863189689d4918b06dd1319256509b",
       "version_major": 2,
       "version_minor": 0
      },
      "text/plain": [
       "  0%|          | 0/1722 [00:00<?, ?it/s]"
      ]
     },
     "metadata": {},
     "output_type": "display_data"
    },
    {
     "name": "stdout",
     "output_type": "stream",
     "text": [
      "Train Loss 0.0664\n",
      "Mean square error 0.1305\n",
      "Mean absolute error 0.1580\n",
      "Epoch 1\n"
     ]
    },
    {
     "data": {
      "application/vnd.jupyter.widget-view+json": {
       "model_id": "c4e5d021fa3f48e99cb285ee5f60a402",
       "version_major": 2,
       "version_minor": 0
      },
      "text/plain": [
       "  0%|          | 0/1722 [00:00<?, ?it/s]"
      ]
     },
     "metadata": {},
     "output_type": "display_data"
    },
    {
     "name": "stdout",
     "output_type": "stream",
     "text": [
      "Train Loss 0.0575\n",
      "Mean square error 0.0650\n",
      "Mean absolute error 0.1051\n",
      "Epoch 2\n"
     ]
    },
    {
     "data": {
      "application/vnd.jupyter.widget-view+json": {
       "model_id": "9c864ffa691042f2af2fcd48f6f2c263",
       "version_major": 2,
       "version_minor": 0
      },
      "text/plain": [
       "  0%|          | 0/1722 [00:00<?, ?it/s]"
      ]
     },
     "metadata": {},
     "output_type": "display_data"
    },
    {
     "name": "stdout",
     "output_type": "stream",
     "text": [
      "Train Loss 0.1804\n",
      "Mean square error 0.0838\n",
      "Mean absolute error 0.1251\n"
     ]
    }
   ],
   "source": [
    "class SalaryPredictorParallelConv(SalaryPredictor):\n",
    "    def __init__(self, **kwargs):\n",
    "        super().__init__(**kwargs)\n",
    "\n",
    "        self.final_predictor = nn.Sequential(\n",
    "            nn.Linear(self.hid_size * 6, self.hid_size * 4),\n",
    "            nn.ReLU(),\n",
    "            nn.Linear(self.hid_size * 4, self.hid_size),\n",
    "            nn.ReLU(),\n",
    "            nn.Linear(self.hid_size, 1)\n",
    "        )\n",
    "\n",
    "    def forward(self, batch):\n",
    "        title_embeddings = self.embedder(batch['Title']).permute(0, 2, 1)\n",
    "        title_features_1 = self.title_encoder(title_embeddings).squeeze()\n",
    "        title_features_2 = self.title_encoder(title_embeddings).squeeze()\n",
    "        title_features = torch.cat([title_features_1, title_features_2], dim=1)\n",
    "\n",
    "        description_embeddings = self.embedder(batch['FullDescription']).permute(0, 2, 1)\n",
    "        description_features_1 = self.description_encoder(description_embeddings).squeeze()\n",
    "        description_features_2 = self.description_encoder(description_embeddings).squeeze()\n",
    "        description_features = torch.cat([description_features_1, description_features_2], dim=1)\n",
    "\n",
    "        categorical_features = self.categorical_encoder(batch['Categorical'])\n",
    "\n",
    "        features = torch.cat(\n",
    "            [title_features, description_features, categorical_features], dim=1)\n",
    "\n",
    "        return self.final_predictor(features).squeeze()\n",
    "\n",
    "model = SalaryPredictorParallelConv()\n",
    "train(model, BATCH_SIZE, EPOCHS, DEVICE, VECTOR_SIZES, 'SalaryPredictorParallelConv')"
   ]
  },
  {
   "cell_type": "code",
   "execution_count": 35,
   "metadata": {
    "pycharm": {
     "name": "#%%\n"
    }
   },
   "outputs": [
    {
     "name": "stdout",
     "output_type": "stream",
     "text": [
      "Epoch 0\n"
     ]
    },
    {
     "data": {
      "application/vnd.jupyter.widget-view+json": {
       "model_id": "8b1b5e22253d4d8bb8594751c721d09f",
       "version_major": 2,
       "version_minor": 0
      },
      "text/plain": [
       "  0%|          | 0/1722 [00:00<?, ?it/s]"
      ]
     },
     "metadata": {},
     "output_type": "display_data"
    },
    {
     "name": "stdout",
     "output_type": "stream",
     "text": [
      "Train Loss 0.0759\n",
      "Mean square error 0.1151\n",
      "Mean absolute error 0.1462\n",
      "Epoch 1\n"
     ]
    },
    {
     "data": {
      "application/vnd.jupyter.widget-view+json": {
       "model_id": "8ff912cdcd8b4997a1856df557f28a9b",
       "version_major": 2,
       "version_minor": 0
      },
      "text/plain": [
       "  0%|          | 0/1722 [00:00<?, ?it/s]"
      ]
     },
     "metadata": {},
     "output_type": "display_data"
    },
    {
     "name": "stdout",
     "output_type": "stream",
     "text": [
      "Train Loss 0.1443\n",
      "Mean square error 0.0829\n",
      "Mean absolute error 0.1213\n",
      "Epoch 2\n"
     ]
    },
    {
     "data": {
      "application/vnd.jupyter.widget-view+json": {
       "model_id": "30402dace330491592556b25c22f7f58",
       "version_major": 2,
       "version_minor": 0
      },
      "text/plain": [
       "  0%|          | 0/1722 [00:00<?, ?it/s]"
      ]
     },
     "metadata": {},
     "output_type": "display_data"
    },
    {
     "name": "stdout",
     "output_type": "stream",
     "text": [
      "Train Loss 0.0767\n",
      "Mean square error 0.0723\n",
      "Mean absolute error 0.1133\n"
     ]
    }
   ],
   "source": [
    "class SalaryPredictorStackMoreLayers(SalaryPredictor):\n",
    "    def __init__(self):\n",
    "        super().__init__()\n",
    "        self.title_encoder = nn.Sequential(\n",
    "            nn.Conv1d(self.hid_size, self.hid_size, kernel_size=(2, )),\n",
    "            nn.Dropout(p=0.25),\n",
    "            nn.ReLU(),\n",
    "            nn.AdaptiveMaxPool1d(output_size=5),\n",
    "            nn.Conv1d(self.hid_size, self.hid_size, kernel_size=(2, )),\n",
    "            nn.Dropout(p=0.25),\n",
    "            nn.ReLU(),\n",
    "            nn.AdaptiveMaxPool1d(output_size=1)\n",
    "        )\n",
    "        self.description_encoder = nn.Sequential(\n",
    "            nn.Conv1d(self.hid_size, self.hid_size, kernel_size=(2, )),\n",
    "            nn.Dropout(p=0.25),\n",
    "            nn.ReLU(),\n",
    "            nn.AdaptiveMaxPool1d(output_size=5),\n",
    "            nn.Conv1d(self.hid_size, self.hid_size, kernel_size=(2, )),\n",
    "            nn.Dropout(p=0.25),\n",
    "            nn.ReLU(),\n",
    "            nn.AdaptiveMaxPool1d(output_size=1)\n",
    "        )\n",
    "        self.categorical_encoder = nn.Sequential(\n",
    "            nn.Linear(self.n_cat_features, self.hid_size * 4),\n",
    "            nn.ReLU(),\n",
    "            nn.Linear(self.hid_size * 4, self.hid_size * 2),\n",
    "            nn.ReLU(),\n",
    "            nn.Linear(self.hid_size * 2, self.hid_size * 2),\n",
    "            nn.ReLU()\n",
    "        )\n",
    "        self.final_predictor = nn.Sequential(\n",
    "            nn.Linear(self.hid_size * 4, self.hid_size * 2),\n",
    "            nn.ReLU(),\n",
    "            nn.Linear(self.hid_size * 2, self.hid_size),\n",
    "            nn.ReLU(),\n",
    "            nn.Linear(self.hid_size, 1)\n",
    "        )\n",
    "\n",
    "model = SalaryPredictorStackMoreLayers()\n",
    "train(model, BATCH_SIZE, EPOCHS, DEVICE, VECTOR_SIZES, 'SalaryPredictorStackMoreLayers')"
   ]
  },
  {
   "cell_type": "code",
   "execution_count": 36,
   "metadata": {
    "pycharm": {
     "name": "#%%\n"
    }
   },
   "outputs": [
    {
     "name": "stdout",
     "output_type": "stream",
     "text": [
      "Epoch 0\n"
     ]
    },
    {
     "data": {
      "application/vnd.jupyter.widget-view+json": {
       "model_id": "e3b8fcdbe2e8480091734329dc24a68d",
       "version_major": 2,
       "version_minor": 0
      },
      "text/plain": [
       "  0%|          | 0/1722 [00:00<?, ?it/s]"
      ]
     },
     "metadata": {},
     "output_type": "display_data"
    },
    {
     "name": "stdout",
     "output_type": "stream",
     "text": [
      "Train Loss 0.0756\n",
      "Mean square error 0.4523\n",
      "Mean absolute error 0.3210\n",
      "Epoch 1\n"
     ]
    },
    {
     "data": {
      "application/vnd.jupyter.widget-view+json": {
       "model_id": "5f6e0ffd9607461eac729f94cf46a58b",
       "version_major": 2,
       "version_minor": 0
      },
      "text/plain": [
       "  0%|          | 0/1722 [00:00<?, ?it/s]"
      ]
     },
     "metadata": {},
     "output_type": "display_data"
    },
    {
     "name": "stdout",
     "output_type": "stream",
     "text": [
      "Train Loss 0.1481\n",
      "Mean square error 0.2803\n",
      "Mean absolute error 0.2501\n",
      "Epoch 2\n"
     ]
    },
    {
     "data": {
      "application/vnd.jupyter.widget-view+json": {
       "model_id": "45691aa83abb4a648b37342e7c72df7e",
       "version_major": 2,
       "version_minor": 0
      },
      "text/plain": [
       "  0%|          | 0/1722 [00:00<?, ?it/s]"
      ]
     },
     "metadata": {},
     "output_type": "display_data"
    },
    {
     "name": "stdout",
     "output_type": "stream",
     "text": [
      "Train Loss 0.1566\n",
      "Mean square error 0.1592\n",
      "Mean absolute error 0.1829\n",
      "Epoch 3\n"
     ]
    },
    {
     "data": {
      "application/vnd.jupyter.widget-view+json": {
       "model_id": "f58e99464107409483fea3f906ac394e",
       "version_major": 2,
       "version_minor": 0
      },
      "text/plain": [
       "  0%|          | 0/1722 [00:00<?, ?it/s]"
      ]
     },
     "metadata": {},
     "output_type": "display_data"
    },
    {
     "name": "stdout",
     "output_type": "stream",
     "text": [
      "Train Loss 0.0393\n",
      "Mean square error 0.1228\n",
      "Mean absolute error 0.1582\n",
      "Epoch 4\n"
     ]
    },
    {
     "data": {
      "application/vnd.jupyter.widget-view+json": {
       "model_id": "364c706c2f2b459cb270e8a8403b14fc",
       "version_major": 2,
       "version_minor": 0
      },
      "text/plain": [
       "  0%|          | 0/1722 [00:00<?, ?it/s]"
      ]
     },
     "metadata": {},
     "output_type": "display_data"
    },
    {
     "name": "stdout",
     "output_type": "stream",
     "text": [
      "Train Loss 0.1612\n",
      "Mean square error 0.0966\n",
      "Mean absolute error 0.1377\n",
      "Epoch 5\n"
     ]
    },
    {
     "data": {
      "application/vnd.jupyter.widget-view+json": {
       "model_id": "d8c9dbb9d256491497f71f50827dc5c9",
       "version_major": 2,
       "version_minor": 0
      },
      "text/plain": [
       "  0%|          | 0/1722 [00:00<?, ?it/s]"
      ]
     },
     "metadata": {},
     "output_type": "display_data"
    },
    {
     "name": "stdout",
     "output_type": "stream",
     "text": [
      "Train Loss 0.0146\n",
      "Mean square error 0.1033\n",
      "Mean absolute error 0.1442\n",
      "Early stopping after epoch 5\n"
     ]
    }
   ],
   "source": [
    "def train_early_stopping(model, batch_size, epochs, device, vector_sizes, logdir='.', patience=1, epsilon=0.02):\n",
    "    writer = SummaryWriter(log_dir=f'runs/{logdir}')\n",
    "    model = model.to(device)\n",
    "    criterion = nn.MSELoss(reduction='mean')\n",
    "    optimizer = torch.optim.Adam(model.parameters(), lr=1e-3)\n",
    "    one_epoch_n_iterates = len(data_train) / batch_size\n",
    "\n",
    "    mae_list = []\n",
    "    for epoch in range(epochs):\n",
    "        print(f\"Epoch {epoch}\")\n",
    "        for i, batch in enumerate(\n",
    "                iterate_minibatches(data_train, batch_size=batch_size, device=device, max_lens=vector_sizes)):\n",
    "            model.train()\n",
    "            pred = model(batch)\n",
    "            optimizer.zero_grad()\n",
    "            loss = criterion(pred, batch[TARGET_COLUMN])\n",
    "            loss.backward()\n",
    "            optimizer.step()\n",
    "\n",
    "            writer.add_scalar(f'train/loss', loss.item(), i + epoch * one_epoch_n_iterates)\n",
    "\n",
    "            if i % 100 == 99:\n",
    "                mse, mae = metrics(model, data_val, batch_size=batch_size, device=device, max_lens=vector_sizes)\n",
    "                writer.add_scalar(f'val/Mean square error', mse, i + epoch * one_epoch_n_iterates)\n",
    "                writer.add_scalar(f'val/Mean absolute error', mae, i + epoch * one_epoch_n_iterates)\n",
    "        print(f'Train Loss {loss.item():.4f}')\n",
    "        print(f'Mean square error {mse:.4f}')\n",
    "        print(f'Mean absolute error {mae:.4f}')\n",
    "        if len(mae_list) < patience:\n",
    "            mae_list.append(mae)\n",
    "        else:\n",
    "            for val in mae_list:\n",
    "                if val - mae > epsilon:\n",
    "                    mae_list = mae_list[1:] + [mae]\n",
    "                    break\n",
    "            else:\n",
    "                print(f'Early stopping after epoch {epoch}')\n",
    "                break\n",
    "\n",
    "model = SalaryPredictor()\n",
    "train_early_stopping(model, batch_size=BATCH_SIZE, epochs=10,\n",
    "                     device=DEVICE, vector_sizes=VECTOR_SIZES,\n",
    "                     logdir='SalaryPredictorEarlyStopping')"
   ]
  },
  {
   "cell_type": "markdown",
   "metadata": {},
   "source": [
    "**2. Pooling слои стандартные (1 балла)**\n",
    "\n",
    "*   Опишите своими словами как работает Pooling слой.\n",
    "*   Взять максимум по временной компоненте (незавимисо для каждой фичи)\n",
    "*   Взять среднее по временной компоненте (исключая PAD символы)\n",
    "\n",
    "Применять можно к любой архитектуре (CNN/RNN)\n",
    "\n",
    "**Pooling** слой уменьшает размер слоя и помогает извлечь только значимые признаки, выбирая максимальное (MaxPool) значение или усредняя все значения (AvgPool) в рамках заданного окна.\n",
    "\n",
    "**Выводы и [Графики](https://tensorboard.dev/experiment/sOyIrKlBRTGmYkrSvh9p4g/#scalars&runSelectionState=eyJTYWxhcnlQcmVkaWN0b3IiOnRydWUsIlNhbGFyeVByZWRpY3RvckF0dGVudGl2ZVBvb2xpbmciOmZhbHNlLCJTYWxhcnlQcmVkaWN0b3JBdmdQb29sIjp0cnVlLCJTYWxhcnlQcmVkaWN0b3JCYXRjaE5vcm0iOmZhbHNlLCJTYWxhcnlQcmVkaWN0b3JCaWRpcmVjdGlvbmFsTFNUTSI6ZmFsc2UsIlNhbGFyeVByZWRpY3RvckVhcmx5U3RvcHBpbmciOmZhbHNlLCJTYWxhcnlQcmVkaWN0b3JMU1RNIjpmYWxzZSwiU2FsYXJ5UHJlZGljdG9yTGF5ZXJOb3JtIjpmYWxzZSwiU2FsYXJ5UHJlZGljdG9yTWF4UG9vbCI6dHJ1ZSwiU2FsYXJ5UHJlZGljdG9yUGFyYWxsZWxDb252IjpmYWxzZSwiU2FsYXJ5UHJlZGljdG9yUHJldHJhaW5lZEVtYmVkZGluZ3MiOmZhbHNlLCJTYWxhcnlQcmVkaWN0b3JQcmV0cmFpbmVkRW1iZWRkaW5nc1RyYWluZWRXZWlnaHRzIjpmYWxzZSwiU2FsYXJ5UHJlZGljdG9yUmFuZG9tRm9yZXN0IjpmYWxzZSwiU2FsYXJ5UHJlZGljdG9yU29mdG1heFBvb2xpbmciOmZhbHNlLCJTYWxhcnlQcmVkaWN0b3JTdGFja01vcmVMYXllcnMiOmZhbHNlfQ%3D%3D):**\n",
    "Pooling особо не влияет на качество модели (CNN с BatchNorm). Для MaxPool и AvgPool MSE **0.03**."
   ]
  },
  {
   "cell_type": "code",
   "execution_count": 50,
   "metadata": {
    "pycharm": {
     "name": "#%%\n"
    }
   },
   "outputs": [
    {
     "name": "stdout",
     "output_type": "stream",
     "text": [
      "Epoch 0\n"
     ]
    },
    {
     "data": {
      "application/vnd.jupyter.widget-view+json": {
       "model_id": "1e23bf23186047468903dffe8f5c8ed0",
       "version_major": 2,
       "version_minor": 0
      },
      "text/plain": [
       "  0%|          | 0/1722 [00:00<?, ?it/s]"
      ]
     },
     "metadata": {},
     "output_type": "display_data"
    },
    {
     "name": "stdout",
     "output_type": "stream",
     "text": [
      "Train Loss 1.3435\n",
      "Mean square error 0.0401\n",
      "Mean absolute error 0.0771\n",
      "Epoch 1\n"
     ]
    },
    {
     "data": {
      "application/vnd.jupyter.widget-view+json": {
       "model_id": "1a4ad33aa89647a2870b8e46104033ae",
       "version_major": 2,
       "version_minor": 0
      },
      "text/plain": [
       "  0%|          | 0/1722 [00:00<?, ?it/s]"
      ]
     },
     "metadata": {},
     "output_type": "display_data"
    },
    {
     "name": "stdout",
     "output_type": "stream",
     "text": [
      "Train Loss 0.9649\n",
      "Mean square error 0.0341\n",
      "Mean absolute error 0.0710\n",
      "Epoch 2\n"
     ]
    },
    {
     "data": {
      "application/vnd.jupyter.widget-view+json": {
       "model_id": "ce274f20a27546ed99b7f293aba8c4ed",
       "version_major": 2,
       "version_minor": 0
      },
      "text/plain": [
       "  0%|          | 0/1722 [00:00<?, ?it/s]"
      ]
     },
     "metadata": {},
     "output_type": "display_data"
    },
    {
     "name": "stdout",
     "output_type": "stream",
     "text": [
      "Train Loss 2.2461\n",
      "Mean square error 0.0297\n",
      "Mean absolute error 0.0660\n"
     ]
    }
   ],
   "source": [
    "class SalaryPredictorPooling(SalaryPredictor):\n",
    "    def __init__(self, is_max_pool=False, dim=8):\n",
    "        super().__init__()\n",
    "        self.is_max_pool = is_max_pool\n",
    "        self.dim = dim\n",
    "\n",
    "        self.title_encoder = nn.Sequential(\n",
    "            nn.Conv1d(self.dim, self.hid_size, kernel_size=(2, )),\n",
    "            nn.BatchNorm1d(self.hid_size),\n",
    "            self.pooling_layer(output_size=4),\n",
    "            nn.Dropout(p=0.25),\n",
    "            nn.ReLU(),\n",
    "            nn.AdaptiveMaxPool1d(output_size=1)\n",
    "        )\n",
    "        self.description_encoder = nn.Sequential(\n",
    "            nn.Conv1d(self.dim, self.hid_size, kernel_size=(2, )),\n",
    "            nn.BatchNorm1d(self.hid_size),\n",
    "            self.pooling_layer(output_size=4),\n",
    "            nn.Dropout(p=0.25),\n",
    "            nn.ReLU(),\n",
    "            nn.AdaptiveMaxPool1d(output_size=1)\n",
    "        )\n",
    "        self.categorical_encoder = nn.Sequential(\n",
    "            nn.Linear(self.n_cat_features, self.hid_size * 16),\n",
    "            nn.BatchNorm1d(self.hid_size * 16),\n",
    "            self.pooling_layer(output_size=self.hid_size * 8),\n",
    "            nn.ReLU(),\n",
    "            nn.Linear(self.hid_size * 8, self.hid_size * 4),\n",
    "            nn.BatchNorm1d(self.hid_size * 4),\n",
    "            self.pooling_layer(output_size=self.hid_size * 2),\n",
    "            nn.ReLU()\n",
    "        )\n",
    "        self.final_predictor = nn.Sequential(\n",
    "            nn.Linear(self.hid_size * 4, self.hid_size),\n",
    "            nn.BatchNorm1d(self.hid_size),\n",
    "            nn.ReLU(),\n",
    "            nn.Linear(self.hid_size, 1)\n",
    "        )\n",
    "\n",
    "    def pooling_layer(self, output_size):\n",
    "        if self.is_max_pool:\n",
    "            return nn.AdaptiveMaxPool1d(output_size=output_size)\n",
    "        return nn.AdaptiveAvgPool1d(output_size=output_size)\n",
    "\n",
    "model = SalaryPredictorPooling(is_max_pool=True)\n",
    "train(model, BATCH_SIZE, EPOCHS, DEVICE, VECTOR_SIZES, 'SalaryPredictorMaxPool')"
   ]
  },
  {
   "cell_type": "code",
   "execution_count": 29,
   "metadata": {
    "pycharm": {
     "name": "#%%\n"
    }
   },
   "outputs": [
    {
     "name": "stdout",
     "output_type": "stream",
     "text": [
      "Epoch 0\n"
     ]
    },
    {
     "data": {
      "application/vnd.jupyter.widget-view+json": {
       "model_id": "6640e490acb14f30a6e3a21a65c801b6",
       "version_major": 2,
       "version_minor": 0
      },
      "text/plain": [
       "  0%|          | 0/1722 [00:00<?, ?it/s]"
      ]
     },
     "metadata": {},
     "output_type": "display_data"
    },
    {
     "name": "stdout",
     "output_type": "stream",
     "text": [
      "Train Loss 3.6169\n",
      "Mean square error 0.0482\n",
      "Mean absolute error 0.0831\n",
      "Epoch 1\n"
     ]
    },
    {
     "data": {
      "application/vnd.jupyter.widget-view+json": {
       "model_id": "81a9d750a23e4acfbe1ea07dc2f2fa88",
       "version_major": 2,
       "version_minor": 0
      },
      "text/plain": [
       "  0%|          | 0/1722 [00:00<?, ?it/s]"
      ]
     },
     "metadata": {},
     "output_type": "display_data"
    },
    {
     "name": "stdout",
     "output_type": "stream",
     "text": [
      "Train Loss 3.3580\n",
      "Mean square error 0.0331\n",
      "Mean absolute error 0.0698\n",
      "Epoch 2\n"
     ]
    },
    {
     "data": {
      "application/vnd.jupyter.widget-view+json": {
       "model_id": "bbb3ef4793ca40d390476a13931e4765",
       "version_major": 2,
       "version_minor": 0
      },
      "text/plain": [
       "  0%|          | 0/1722 [00:00<?, ?it/s]"
      ]
     },
     "metadata": {},
     "output_type": "display_data"
    },
    {
     "name": "stdout",
     "output_type": "stream",
     "text": [
      "Train Loss 11.9864\n",
      "Mean square error 0.0307\n",
      "Mean absolute error 0.0668\n"
     ]
    }
   ],
   "source": [
    "model = SalaryPredictorPooling()\n",
    "train(model, BATCH_SIZE, EPOCHS, DEVICE, VECTOR_SIZES, 'SalaryPredictorAvgPool')"
   ]
  },
  {
   "cell_type": "markdown",
   "metadata": {
    "pycharm": {
     "name": "#%% md\n"
    }
   },
   "source": [
    "**3. Используйте предобученные эмбеддинги (2 балла)**\n",
    "\n",
    "*   Загрузите предобученные эмбеддинги с помощью gensim.downloader.load\n",
    "*   Используйте метод [from_pretrained](https://pytorch.org/docs/stable/generated/torch.nn.Embedding.html) слоя torch.nn.Embedding для инициализации эмбеддингов с помощью предобученных весов. Можете попровать несколько типов предобученных эмбеддингов.\n",
    "*   Проведите эксперементы с обучаемыми/замороженными весами эмбеддингов.\n",
    "Используйте одни и те же эмбеддинги для Title и FullDescription.\n",
    "\n",
    "Сравните результаты:\n",
    "1.   Эмбеддингов, инициализируемых случайно из $$\\mathcal{N}(0,1)$$ (по умолчанию у слоя torch.nn.Embedding)\n",
    "2.   Предобученных эмбеддингов с замороженными весами\n",
    "3.   Предобученных эмбеддингов с обучаемыми весами\n",
    "\n",
    "Что изменяется в поведении модели? Какой эксперимент дал лучший результат?\n",
    "\n",
    "**Выводы и [Графики](https://tensorboard.dev/experiment/sOyIrKlBRTGmYkrSvh9p4g/#scalars&runSelectionState=eyJTYWxhcnlQcmVkaWN0b3IiOmZhbHNlLCJTYWxhcnlQcmVkaWN0b3JBdHRlbnRpdmVQb29saW5nIjpmYWxzZSwiU2FsYXJ5UHJlZGljdG9yQXZnUG9vbCI6ZmFsc2UsIlNhbGFyeVByZWRpY3RvckJhdGNoTm9ybSI6ZmFsc2UsIlNhbGFyeVByZWRpY3RvckJpZGlyZWN0aW9uYWxMU1RNIjpmYWxzZSwiU2FsYXJ5UHJlZGljdG9yRWFybHlTdG9wcGluZyI6ZmFsc2UsIlNhbGFyeVByZWRpY3RvckxTVE0iOmZhbHNlLCJTYWxhcnlQcmVkaWN0b3JMYXllck5vcm0iOmZhbHNlLCJTYWxhcnlQcmVkaWN0b3JNYXhQb29sIjp0cnVlLCJTYWxhcnlQcmVkaWN0b3JQYXJhbGxlbENvbnYiOmZhbHNlLCJTYWxhcnlQcmVkaWN0b3JQcmV0cmFpbmVkRW1iZWRkaW5ncyI6dHJ1ZSwiU2FsYXJ5UHJlZGljdG9yUHJldHJhaW5lZEVtYmVkZGluZ3NUcmFpbmVkV2VpZ2h0cyI6dHJ1ZSwiU2FsYXJ5UHJlZGljdG9yUmFuZG9tRm9yZXN0IjpmYWxzZSwiU2FsYXJ5UHJlZGljdG9yU29mdG1heFBvb2xpbmciOmZhbHNlLCJTYWxhcnlQcmVkaWN0b3JTdGFja01vcmVMYXllcnMiOmZhbHNlfQ%3D%3D):**\n",
    "    \n",
    "    1) В эмбеддингах, инициализируемых случайно (SalaryPredictorMaxPool) MSE 0.03, а в предобученных **0.037** и **0.027** с замороженными и обучаемыми весами соответственно.\n",
    "    2) Если помимо обучения модели, еще и дообучать большие эмбеддинги, то время обучения увеличивается в разы, что неудобно и требует GPU, при этом качество увеличивается незначительно."
   ]
  },
  {
   "cell_type": "code",
   "execution_count": 48,
   "metadata": {
    "pycharm": {
     "name": "#%%\n"
    }
   },
   "outputs": [
    {
     "name": "stdout",
     "output_type": "stream",
     "text": [
      "Epoch 0\n"
     ]
    },
    {
     "data": {
      "application/vnd.jupyter.widget-view+json": {
       "model_id": "6756d4108338443483a52e69678cd956",
       "version_major": 2,
       "version_minor": 0
      },
      "text/plain": [
       "  0%|          | 0/1722 [00:00<?, ?it/s]"
      ]
     },
     "metadata": {},
     "output_type": "display_data"
    },
    {
     "name": "stdout",
     "output_type": "stream",
     "text": [
      "Train Loss 5.1737\n",
      "Mean square error 0.0509\n",
      "Mean absolute error 0.0859\n",
      "Epoch 1\n"
     ]
    },
    {
     "data": {
      "application/vnd.jupyter.widget-view+json": {
       "model_id": "5662dcb87160445dbfb928177b0d46f8",
       "version_major": 2,
       "version_minor": 0
      },
      "text/plain": [
       "  0%|          | 0/1722 [00:00<?, ?it/s]"
      ]
     },
     "metadata": {},
     "output_type": "display_data"
    },
    {
     "name": "stdout",
     "output_type": "stream",
     "text": [
      "Train Loss 1.8640\n",
      "Mean square error 0.0435\n",
      "Mean absolute error 0.0794\n",
      "Epoch 2\n"
     ]
    },
    {
     "data": {
      "application/vnd.jupyter.widget-view+json": {
       "model_id": "adf00fee8f5e43b1ba83146eaccb0784",
       "version_major": 2,
       "version_minor": 0
      },
      "text/plain": [
       "  0%|          | 0/1722 [00:00<?, ?it/s]"
      ]
     },
     "metadata": {},
     "output_type": "display_data"
    },
    {
     "name": "stdout",
     "output_type": "stream",
     "text": [
      "Train Loss 3.3003\n",
      "Mean square error 0.0373\n",
      "Mean absolute error 0.0744\n"
     ]
    }
   ],
   "source": [
    "import gensim.downloader as api\n",
    "\n",
    "class SalaryPredictorPretrainedEmbeddings(SalaryPredictorPooling):\n",
    "    def __init__(self, pretrained_embedding, freeze=True, **kwargs):\n",
    "        super().__init__(**kwargs)\n",
    "        self.embedder = nn.Embedding.from_pretrained(torch.Tensor(pretrained_embedding), freeze=freeze)\n",
    "\n",
    "embed = api.load('glove-wiki-gigaword-50')\n",
    "model = SalaryPredictorPretrainedEmbeddings(embed.vectors, dim=50, is_max_pool=True)\n",
    "train(model, BATCH_SIZE, EPOCHS, DEVICE, VECTOR_SIZES, 'SalaryPredictorPretrainedEmbeddings')"
   ]
  },
  {
   "cell_type": "code",
   "execution_count": 49,
   "metadata": {
    "pycharm": {
     "name": "#%%\n"
    }
   },
   "outputs": [
    {
     "name": "stdout",
     "output_type": "stream",
     "text": [
      "Epoch 0\n"
     ]
    },
    {
     "data": {
      "application/vnd.jupyter.widget-view+json": {
       "model_id": "8123f30a5bd64467b039ff99390e2a13",
       "version_major": 2,
       "version_minor": 0
      },
      "text/plain": [
       "  0%|          | 0/1722 [00:00<?, ?it/s]"
      ]
     },
     "metadata": {},
     "output_type": "display_data"
    },
    {
     "name": "stdout",
     "output_type": "stream",
     "text": [
      "Train Loss 9.0926\n",
      "Mean square error 0.0368\n",
      "Mean absolute error 0.0741\n",
      "Epoch 1\n"
     ]
    },
    {
     "data": {
      "application/vnd.jupyter.widget-view+json": {
       "model_id": "9bb92663159f40199823eb8fa1a92049",
       "version_major": 2,
       "version_minor": 0
      },
      "text/plain": [
       "  0%|          | 0/1722 [00:00<?, ?it/s]"
      ]
     },
     "metadata": {},
     "output_type": "display_data"
    },
    {
     "name": "stdout",
     "output_type": "stream",
     "text": [
      "Train Loss 2.0870\n",
      "Mean square error 0.0277\n",
      "Mean absolute error 0.0634\n",
      "Epoch 2\n"
     ]
    },
    {
     "data": {
      "application/vnd.jupyter.widget-view+json": {
       "model_id": "2d589dc6ff8e4a50b6d8f31d4fe8ec2a",
       "version_major": 2,
       "version_minor": 0
      },
      "text/plain": [
       "  0%|          | 0/1722 [00:00<?, ?it/s]"
      ]
     },
     "metadata": {},
     "output_type": "display_data"
    },
    {
     "name": "stdout",
     "output_type": "stream",
     "text": [
      "Train Loss 1.0606\n",
      "Mean square error 0.0270\n",
      "Mean absolute error 0.0633\n"
     ]
    }
   ],
   "source": [
    "model = SalaryPredictorPretrainedEmbeddings(embed.vectors, freeze=False, dim=50, is_max_pool=True)\n",
    "train(model, BATCH_SIZE, EPOCHS, DEVICE, VECTOR_SIZES, 'SalaryPredictorPretrainedEmbeddingsTrainedWeights')"
   ]
  },
  {
   "cell_type": "markdown",
   "metadata": {},
   "source": [
    "**4. Замените сверточные слои на рекуррентные (3 балла)**\n",
    "\n",
    "* Замените сверточне слоим рекуррентными LSTM/GRU.\n",
    "* Проведите эксперимент с однонаправленной и двунаправленной рекуррентной нейросетью\n",
    "* Попробуйте найти удачный микс рекуррентных и сверточных слоев. Попробуйте разные миксы для Title и FullDescription\n",
    "\n",
    "**Выводы и [Графики](https://tensorboard.dev/experiment/sOyIrKlBRTGmYkrSvh9p4g/#scalars&runSelectionState=eyJTYWxhcnlQcmVkaWN0b3IiOmZhbHNlLCJTYWxhcnlQcmVkaWN0b3JBdHRlbnRpdmVQb29saW5nIjpmYWxzZSwiU2FsYXJ5UHJlZGljdG9yQXZnUG9vbCI6ZmFsc2UsIlNhbGFyeVByZWRpY3RvckJhdGNoTm9ybSI6ZmFsc2UsIlNhbGFyeVByZWRpY3RvckJpZGlyZWN0aW9uYWxMU1RNIjp0cnVlLCJTYWxhcnlQcmVkaWN0b3JFYXJseVN0b3BwaW5nIjpmYWxzZSwiU2FsYXJ5UHJlZGljdG9yTFNUTSI6dHJ1ZSwiU2FsYXJ5UHJlZGljdG9yTGF5ZXJOb3JtIjp0cnVlLCJTYWxhcnlQcmVkaWN0b3JNYXhQb29sIjpmYWxzZSwiU2FsYXJ5UHJlZGljdG9yUGFyYWxsZWxDb252IjpmYWxzZSwiU2FsYXJ5UHJlZGljdG9yUHJldHJhaW5lZEVtYmVkZGluZ3MiOmZhbHNlLCJTYWxhcnlQcmVkaWN0b3JQcmV0cmFpbmVkRW1iZWRkaW5nc1RyYWluZWRXZWlnaHRzIjpmYWxzZSwiU2FsYXJ5UHJlZGljdG9yUmFuZG9tRm9yZXN0IjpmYWxzZSwiU2FsYXJ5UHJlZGljdG9yU29mdG1heFBvb2xpbmciOmZhbHNlLCJTYWxhcnlQcmVkaWN0b3JTdGFja01vcmVMYXllcnMiOmZhbHNlfQ%3D%3D):**\n",
    "    \n",
    "    1) В целом, рекурентные сети работают хуже, чем сверточные в данной задаче.\n",
    "    2) Однонаправленная сеть показывает качество немногим хуже, чем двунаправленная, MSE **0.046** и **0.027** соответственно.\n",
    "    3) Лучшее сочетание рекурентных и сверточных сетей - использовать только один слой LSTM, так как задача не требует большой и сложной модели."
   ]
  },
  {
   "cell_type": "code",
   "execution_count": 53,
   "metadata": {
    "pycharm": {
     "name": "#%%\n"
    }
   },
   "outputs": [
    {
     "name": "stdout",
     "output_type": "stream",
     "text": [
      "Epoch 0\n"
     ]
    },
    {
     "data": {
      "application/vnd.jupyter.widget-view+json": {
       "model_id": "f0f733c608064a11924f0a65d5f2b07f",
       "version_major": 2,
       "version_minor": 0
      },
      "text/plain": [
       "  0%|          | 0/1722 [00:00<?, ?it/s]"
      ]
     },
     "metadata": {},
     "output_type": "display_data"
    },
    {
     "name": "stdout",
     "output_type": "stream",
     "text": [
      "Train Loss 1.2841\n",
      "Mean square error 0.2752\n",
      "Mean absolute error 0.2342\n",
      "Epoch 1\n"
     ]
    },
    {
     "data": {
      "application/vnd.jupyter.widget-view+json": {
       "model_id": "14e8feff148040b5a8e5833d73b2959a",
       "version_major": 2,
       "version_minor": 0
      },
      "text/plain": [
       "  0%|          | 0/1722 [00:00<?, ?it/s]"
      ]
     },
     "metadata": {},
     "output_type": "display_data"
    },
    {
     "name": "stdout",
     "output_type": "stream",
     "text": [
      "Train Loss 2.7300\n",
      "Mean square error 0.0937\n",
      "Mean absolute error 0.1223\n",
      "Epoch 2\n"
     ]
    },
    {
     "data": {
      "application/vnd.jupyter.widget-view+json": {
       "model_id": "6407e47d197c4c408da0da9d9bf04b91",
       "version_major": 2,
       "version_minor": 0
      },
      "text/plain": [
       "  0%|          | 0/1722 [00:00<?, ?it/s]"
      ]
     },
     "metadata": {},
     "output_type": "display_data"
    },
    {
     "name": "stdout",
     "output_type": "stream",
     "text": [
      "Train Loss 0.8173\n",
      "Mean square error 0.0464\n",
      "Mean absolute error 0.0834\n"
     ]
    }
   ],
   "source": [
    "class SalaryPredictorLSTM(SalaryPredictor):\n",
    "    def __init__(self, bidirectional=False):\n",
    "        super().__init__()\n",
    "\n",
    "        self.LSTM = nn.LSTM(self.hid_size, self.hid_size, bidirectional=bidirectional)\n",
    "\n",
    "        self.title_encoder = nn.Sequential(\n",
    "            nn.BatchNorm1d(self.hid_size * 2 if bidirectional else self.hid_size),\n",
    "            nn.Dropout(p=0.25),\n",
    "            nn.ReLU(),\n",
    "            nn.AdaptiveMaxPool1d(output_size=1)\n",
    "        )\n",
    "\n",
    "        self.description_encoder = nn.Sequential(\n",
    "            nn.BatchNorm1d(self.hid_size * 2 if bidirectional else self.hid_size),\n",
    "            nn.Dropout(p=0.25),\n",
    "            nn.ReLU(),\n",
    "            nn.AdaptiveMaxPool1d(output_size=1)\n",
    "        )\n",
    "\n",
    "        self.categorical_encoder = nn.Sequential(\n",
    "            nn.Linear(self.n_cat_features, self.hid_size * 4),\n",
    "            nn.BatchNorm1d(self.hid_size * 4),\n",
    "            nn.ReLU(),\n",
    "            nn.Linear(self.hid_size * 4, self.hid_size * 2),\n",
    "            nn.BatchNorm1d(self.hid_size * 2),\n",
    "            nn.ReLU()\n",
    "        )\n",
    "        self.final_predictor = nn.Sequential(\n",
    "            nn.Linear(self.hid_size * (6 if bidirectional else 4), self.hid_size),\n",
    "            nn.BatchNorm1d(self.hid_size),\n",
    "            nn.ReLU(),\n",
    "            nn.Linear(self.hid_size, 1)\n",
    "        )\n",
    "\n",
    "    def forward(self, batch):\n",
    "        title_embeddings = self.embedder(batch['Title'])\n",
    "        title_lstm, hidden = self.LSTM(title_embeddings)\n",
    "        title_features = self.title_encoder(title_lstm.permute(0, 2, 1)).squeeze()\n",
    "\n",
    "        description_embeddings = self.embedder(batch['FullDescription'])\n",
    "        description_lstm, hidden = self.LSTM(description_embeddings)\n",
    "        description_features = self.title_encoder(description_lstm.permute(0, 2, 1)).squeeze()\n",
    "\n",
    "        categorical_features = self.categorical_encoder(batch['Categorical'])\n",
    "\n",
    "        features = torch.cat(\n",
    "            [title_features, description_features, categorical_features], dim=1)\n",
    "\n",
    "        return self.final_predictor(features).squeeze()\n",
    "\n",
    "model = SalaryPredictorLSTM()\n",
    "train(model, BATCH_SIZE, EPOCHS, DEVICE, VECTOR_SIZES, 'SalaryPredictorLSTM')"
   ]
  },
  {
   "cell_type": "code",
   "execution_count": 56,
   "metadata": {
    "pycharm": {
     "name": "#%%\n"
    }
   },
   "outputs": [
    {
     "name": "stdout",
     "output_type": "stream",
     "text": [
      "Epoch 0\n"
     ]
    },
    {
     "data": {
      "application/vnd.jupyter.widget-view+json": {
       "model_id": "faf3d2b2cc93484faaefd2ae91543216",
       "version_major": 2,
       "version_minor": 0
      },
      "text/plain": [
       "  0%|          | 0/1722 [00:00<?, ?it/s]"
      ]
     },
     "metadata": {},
     "output_type": "display_data"
    },
    {
     "name": "stdout",
     "output_type": "stream",
     "text": [
      "Train Loss 0.9477\n",
      "Mean square error 0.0443\n",
      "Mean absolute error 0.0828\n",
      "Epoch 1\n"
     ]
    },
    {
     "data": {
      "application/vnd.jupyter.widget-view+json": {
       "model_id": "1fcf3d5c763c4f1e86ffd656cd9fa4d0",
       "version_major": 2,
       "version_minor": 0
      },
      "text/plain": [
       "  0%|          | 0/1722 [00:00<?, ?it/s]"
      ]
     },
     "metadata": {},
     "output_type": "display_data"
    },
    {
     "name": "stdout",
     "output_type": "stream",
     "text": [
      "Train Loss 5.4459\n",
      "Mean square error 0.0319\n",
      "Mean absolute error 0.0693\n",
      "Epoch 2\n"
     ]
    },
    {
     "data": {
      "application/vnd.jupyter.widget-view+json": {
       "model_id": "0c6a7f06c57a45849c1dfbf23aca80ae",
       "version_major": 2,
       "version_minor": 0
      },
      "text/plain": [
       "  0%|          | 0/1722 [00:00<?, ?it/s]"
      ]
     },
     "metadata": {},
     "output_type": "display_data"
    },
    {
     "name": "stdout",
     "output_type": "stream",
     "text": [
      "Train Loss 0.7884\n",
      "Mean square error 0.0272\n",
      "Mean absolute error 0.0627\n"
     ]
    }
   ],
   "source": [
    "model = SalaryPredictorLSTM(bidirectional=True)\n",
    "train(model, BATCH_SIZE, EPOCHS, DEVICE, VECTOR_SIZES, 'SalaryPredictorBidirectionalLSTM')"
   ]
  },
  {
   "cell_type": "markdown",
   "metadata": {},
   "source": [
    "**5. Вытащите признаки из нейронной сети и используйте их в ансамбле деревьев решений. (2 балла)**\n",
    "\n",
    "* Вытащите признаки с предпоследнего слоя обученной нейросети и передайте их в ансамбль деревьев решений.\n",
    "* Сравните результаты работы лучшей нейросети и ансамбля деревьев решений, построенном на признаках из этой нейросети. Сможет ли замена последнего слоя на ансамбль деревьев решений улучшить результат?\n",
    "\n",
    "**Выводы и [Графики](https://tensorboard.dev/experiment/sOyIrKlBRTGmYkrSvh9p4g/#scalars&runSelectionState=eyJTYWxhcnlQcmVkaWN0b3IiOmZhbHNlLCJTYWxhcnlQcmVkaWN0b3JBdHRlbnRpdmVQb29saW5nIjpmYWxzZSwiU2FsYXJ5UHJlZGljdG9yQXZnUG9vbCI6ZmFsc2UsIlNhbGFyeVByZWRpY3RvckJhdGNoTm9ybSI6ZmFsc2UsIlNhbGFyeVByZWRpY3RvckJpZGlyZWN0aW9uYWxMU1RNIjpmYWxzZSwiU2FsYXJ5UHJlZGljdG9yRWFybHlTdG9wcGluZyI6ZmFsc2UsIlNhbGFyeVByZWRpY3RvckxTVE0iOmZhbHNlLCJTYWxhcnlQcmVkaWN0b3JMYXllck5vcm0iOnRydWUsIlNhbGFyeVByZWRpY3Rvck1heFBvb2wiOmZhbHNlLCJTYWxhcnlQcmVkaWN0b3JQYXJhbGxlbENvbnYiOmZhbHNlLCJTYWxhcnlQcmVkaWN0b3JQcmV0cmFpbmVkRW1iZWRkaW5ncyI6ZmFsc2UsIlNhbGFyeVByZWRpY3RvclByZXRyYWluZWRFbWJlZGRpbmdzVHJhaW5lZFdlaWdodHMiOmZhbHNlLCJTYWxhcnlQcmVkaWN0b3JSYW5kb21Gb3Jlc3QiOnRydWUsIlNhbGFyeVByZWRpY3RvclNvZnRtYXhQb29saW5nIjpmYWxzZSwiU2FsYXJ5UHJlZGljdG9yU3RhY2tNb3JlTGF5ZXJzIjpmYWxzZX0%3D):**\n",
    "   \n",
    "    1) Ансамбль деревьев решений в качестве регрессора работает также (MSE **0.028**), чем лучшая нейросеть (с нормированием по слоям SalaryPredictorLayerNorm MSE 0.027).\n",
    "    2) Лес деревьев очень быстро сходится к малым значениям ошибки."
   ]
  },
  {
   "cell_type": "code",
   "execution_count": 57,
   "metadata": {
    "pycharm": {
     "name": "#%%\n"
    }
   },
   "outputs": [
    {
     "name": "stdout",
     "output_type": "stream",
     "text": [
      "Epoch 0\n"
     ]
    },
    {
     "data": {
      "application/vnd.jupyter.widget-view+json": {
       "model_id": "e79471db18eb4515b0516d8957b3bade",
       "version_major": 2,
       "version_minor": 0
      },
      "text/plain": [
       "  0%|          | 0/1722 [00:00<?, ?it/s]"
      ]
     },
     "metadata": {},
     "output_type": "display_data"
    },
    {
     "name": "stdout",
     "output_type": "stream",
     "text": [
      "Train Loss 0.0307\n",
      "Mean square error 0.0302\n",
      "Mean absolute error 0.0667\n",
      "Epoch 1\n"
     ]
    },
    {
     "data": {
      "application/vnd.jupyter.widget-view+json": {
       "model_id": "8ce1bca6ac8f454abf1dcf4736cd482b",
       "version_major": 2,
       "version_minor": 0
      },
      "text/plain": [
       "  0%|          | 0/1722 [00:00<?, ?it/s]"
      ]
     },
     "metadata": {},
     "output_type": "display_data"
    },
    {
     "name": "stdout",
     "output_type": "stream",
     "text": [
      "Train Loss 0.0935\n",
      "Mean square error 0.0293\n",
      "Mean absolute error 0.0658\n",
      "Epoch 2\n"
     ]
    },
    {
     "data": {
      "application/vnd.jupyter.widget-view+json": {
       "model_id": "b12e766e71e244288d4fa72357492f8e",
       "version_major": 2,
       "version_minor": 0
      },
      "text/plain": [
       "  0%|          | 0/1722 [00:00<?, ?it/s]"
      ]
     },
     "metadata": {},
     "output_type": "display_data"
    },
    {
     "name": "stdout",
     "output_type": "stream",
     "text": [
      "Train Loss 0.0034\n",
      "Mean square error 0.0279\n",
      "Mean absolute error 0.0640\n"
     ]
    }
   ],
   "source": [
    "from sklearn.ensemble import RandomForestRegressor\n",
    "from sklearn.metrics import mean_absolute_error, mean_squared_error\n",
    "from torchvision.models.feature_extraction import create_feature_extractor\n",
    "\n",
    "def train_tree_ensemble(model, regressor, batch_size, epochs, device, vector_sizes, logdir='.'):\n",
    "    writer = SummaryWriter(log_dir=f'runs/{logdir}')\n",
    "    model = model.to(device)\n",
    "    one_epoch_n_iterates = len(data_train) / batch_size\n",
    "\n",
    "    for epoch in range(epochs):\n",
    "        print(f\"Epoch {epoch}\")\n",
    "        for i, batch in enumerate(\n",
    "                iterate_minibatches(data_train, batch_size=batch_size, device=device, max_lens=vector_sizes)):\n",
    "            features = model(batch)['layer'].detach().cpu().numpy()\n",
    "            regressor.fit(features, batch[TARGET_COLUMN])\n",
    "            pred = regressor.predict(features)\n",
    "            loss = mean_squared_error(batch[TARGET_COLUMN], pred)\n",
    "            writer.add_scalar(f'train/loss', loss, i + epoch * one_epoch_n_iterates)\n",
    "\n",
    "            if i % 100 == 99:\n",
    "                mse, mae = metrics_forest(model, regressor, data_val, batch_size=batch_size, device=device, max_lens=vector_sizes)\n",
    "                writer.add_scalar(f'val/Mean square error', mse, i + epoch * one_epoch_n_iterates)\n",
    "                writer.add_scalar(f'val/Mean absolute error', mae, i + epoch * one_epoch_n_iterates)\n",
    "        print(f'Train Loss {loss:.4f}')\n",
    "        print(f'Mean square error {mse:.4f}')\n",
    "        print(f'Mean absolute error {mae:.4f}')\n",
    "    return regressor\n",
    "\n",
    "def metrics_forest(model, regressor, data, batch_size=BATCH_SIZE, **kw):\n",
    "    squared_error = abs_error = num_samples = 0.0\n",
    "    for batch in iterate_minibatches(data, batch_size=batch_size, shuffle=False, tqdm=False, **kw):\n",
    "        features = model(batch)['layer'].detach().cpu().numpy()\n",
    "        batch_pred = regressor.predict(features)\n",
    "        squared_error += mean_squared_error(batch[TARGET_COLUMN], batch_pred)\n",
    "        abs_error += mean_absolute_error(batch[TARGET_COLUMN], batch_pred)\n",
    "        num_samples += len(batch)\n",
    "    mse = squared_error / num_samples\n",
    "    mae = abs_error / num_samples\n",
    "    return mse, mae\n",
    "\n",
    "\n",
    "model_no_last_layer = create_feature_extractor(model_norm, return_nodes={'final_predictor.2': 'layer'})\n",
    "regr = RandomForestRegressor(n_estimators=5, max_depth=2, random_state=0)\n",
    "regr = train_tree_ensemble(model_no_last_layer, regr, batch_size=BATCH_SIZE, epochs=3,\n",
    "                           device=DEVICE, vector_sizes=VECTOR_SIZES, logdir='SalaryPredictorRandomForest')"
   ]
  },
  {
   "cell_type": "markdown",
   "metadata": {},
   "source": [
    "**6. Pooling слои *продвинутые* (3 балла)**\n",
    "\n",
    "Реализуйте и примените\n",
    "Softmax-pooling:$$ out_{i, t} = \\sum_t {h_{i,t} \\cdot {{e ^ {h_{i, t}}} \\over \\sum_\\tau e ^ {h_{j, \\tau}} } }$$\n",
    "\n",
    "Attentive pooling$$ out_{i, t} = \\sum_t {h_{i,t} \\cdot Attn(h_t)}$$\n",
    "\n",
    ", где $$ Attn(h_t) = {{e ^ {NN_{attn}(h_t)}} \\over \\sum_\\tau e ^ {NN_{attn}(h_\\tau)}}  $$и $NN_{attn}$ полносвязный слой.\n",
    "\n",
    "**Выводы и [Графики](https://tensorboard.dev/experiment/sOyIrKlBRTGmYkrSvh9p4g/#scalars&runSelectionState=eyJTYWxhcnlQcmVkaWN0b3IiOmZhbHNlLCJTYWxhcnlQcmVkaWN0b3JBdHRlbnRpdmVQb29saW5nIjp0cnVlLCJTYWxhcnlQcmVkaWN0b3JBdmdQb29sIjpmYWxzZSwiU2FsYXJ5UHJlZGljdG9yQmF0Y2hOb3JtIjpmYWxzZSwiU2FsYXJ5UHJlZGljdG9yQmlkaXJlY3Rpb25hbExTVE0iOmZhbHNlLCJTYWxhcnlQcmVkaWN0b3JFYXJseVN0b3BwaW5nIjpmYWxzZSwiU2FsYXJ5UHJlZGljdG9yTFNUTSI6ZmFsc2UsIlNhbGFyeVByZWRpY3RvckxheWVyTm9ybSI6dHJ1ZSwiU2FsYXJ5UHJlZGljdG9yTWF4UG9vbCI6ZmFsc2UsIlNhbGFyeVByZWRpY3RvclBhcmFsbGVsQ29udiI6ZmFsc2UsIlNhbGFyeVByZWRpY3RvclByZXRyYWluZWRFbWJlZGRpbmdzIjpmYWxzZSwiU2FsYXJ5UHJlZGljdG9yUHJldHJhaW5lZEVtYmVkZGluZ3NUcmFpbmVkV2VpZ2h0cyI6ZmFsc2UsIlNhbGFyeVByZWRpY3RvclJhbmRvbUZvcmVzdCI6ZmFsc2UsIlNhbGFyeVByZWRpY3RvclNvZnRtYXhQb29saW5nIjp0cnVlLCJTYWxhcnlQcmVkaWN0b3JTdGFja01vcmVMYXllcnMiOmZhbHNlfQ%3D%3D):**\n",
    "Продвинутые методы пулинга помогают значительно улучшать качество сети. MSE **0.05** и **0.024** для Softmax и Attentive Pooling соотвественно."
   ]
  },
  {
   "cell_type": "code",
   "execution_count": 58,
   "metadata": {
    "pycharm": {
     "name": "#%%\n"
    }
   },
   "outputs": [
    {
     "name": "stdout",
     "output_type": "stream",
     "text": [
      "Epoch 0\n"
     ]
    },
    {
     "data": {
      "application/vnd.jupyter.widget-view+json": {
       "model_id": "cbce455559f841dfbfe6b627becf1ffd",
       "version_major": 2,
       "version_minor": 0
      },
      "text/plain": [
       "  0%|          | 0/1722 [00:00<?, ?it/s]"
      ]
     },
     "metadata": {},
     "output_type": "display_data"
    },
    {
     "name": "stdout",
     "output_type": "stream",
     "text": [
      "Train Loss 4.4157\n",
      "Mean square error 0.0420\n",
      "Mean absolute error 0.0804\n",
      "Epoch 1\n"
     ]
    },
    {
     "data": {
      "application/vnd.jupyter.widget-view+json": {
       "model_id": "d472d99e82b84bdf884e1bd5495fc3f5",
       "version_major": 2,
       "version_minor": 0
      },
      "text/plain": [
       "  0%|          | 0/1722 [00:00<?, ?it/s]"
      ]
     },
     "metadata": {},
     "output_type": "display_data"
    },
    {
     "name": "stdout",
     "output_type": "stream",
     "text": [
      "Train Loss 0.2501\n",
      "Mean square error 0.0486\n",
      "Mean absolute error 0.0858\n",
      "Epoch 2\n"
     ]
    },
    {
     "data": {
      "application/vnd.jupyter.widget-view+json": {
       "model_id": "8dd3a511dc6c4f84bcbab5a81091e994",
       "version_major": 2,
       "version_minor": 0
      },
      "text/plain": [
       "  0%|          | 0/1722 [00:00<?, ?it/s]"
      ]
     },
     "metadata": {},
     "output_type": "display_data"
    },
    {
     "name": "stdout",
     "output_type": "stream",
     "text": [
      "Train Loss 0.9460\n",
      "Mean square error 0.0658\n",
      "Mean absolute error 0.1042\n"
     ]
    }
   ],
   "source": [
    "class SalaryPredictorSoftmaxPooling(SalaryPredictor):\n",
    "    def __init__(self, dim=8):\n",
    "        super().__init__()\n",
    "        self.dim = dim\n",
    "\n",
    "        self.title_encoder = nn.Sequential(\n",
    "            nn.Conv1d(self.dim, self.hid_size, kernel_size=(2, )),\n",
    "            nn.BatchNorm1d(self.hid_size),\n",
    "            nn.Softmax(dim=2),\n",
    "            nn.AdaptiveAvgPool1d(output_size=4),\n",
    "            nn.Dropout(p=0.25),\n",
    "            nn.ReLU(),\n",
    "            nn.Softmax(dim=2),\n",
    "            nn.AdaptiveMaxPool1d(output_size=1)\n",
    "        )\n",
    "        self.description_encoder = nn.Sequential(\n",
    "            nn.Conv1d(self.dim, self.hid_size, kernel_size=(2, )),\n",
    "            nn.BatchNorm1d(self.hid_size),\n",
    "            nn.Softmax(dim=2),\n",
    "            nn.AdaptiveAvgPool1d(output_size=4),\n",
    "            nn.Dropout(p=0.25),\n",
    "            nn.ReLU(),\n",
    "            nn.Softmax(dim=2),\n",
    "            nn.AdaptiveMaxPool1d(output_size=1)\n",
    "        )\n",
    "        self.categorical_encoder = nn.Sequential(\n",
    "            nn.Linear(self.n_cat_features, self.hid_size * 16),\n",
    "            nn.BatchNorm1d(self.hid_size * 16),\n",
    "            nn.Softmax(dim=1),\n",
    "            nn.AdaptiveAvgPool1d(output_size=self.hid_size * 8),\n",
    "            nn.ReLU(),\n",
    "            nn.Linear(self.hid_size * 8, self.hid_size * 4),\n",
    "            nn.BatchNorm1d(self.hid_size * 4),\n",
    "            nn.Softmax(dim=1),\n",
    "            nn.AdaptiveAvgPool1d(output_size=self.hid_size * 2),\n",
    "            nn.ReLU()\n",
    "        )\n",
    "        self.final_predictor = nn.Sequential(\n",
    "            nn.Linear(self.hid_size * 4, self.hid_size),\n",
    "            nn.BatchNorm1d(self.hid_size),\n",
    "            nn.ReLU(),\n",
    "            nn.Linear(self.hid_size, 1)\n",
    "        )\n",
    "\n",
    "model = SalaryPredictorSoftmaxPooling()\n",
    "train(model, BATCH_SIZE, EPOCHS, DEVICE, VECTOR_SIZES, 'SalaryPredictorSoftmaxPooling')"
   ]
  },
  {
   "cell_type": "code",
   "execution_count": 59,
   "metadata": {
    "pycharm": {
     "name": "#%%\n"
    }
   },
   "outputs": [
    {
     "name": "stdout",
     "output_type": "stream",
     "text": [
      "Epoch 0\n"
     ]
    },
    {
     "data": {
      "application/vnd.jupyter.widget-view+json": {
       "model_id": "115f4d33bc464d03b67717709c90fe40",
       "version_major": 2,
       "version_minor": 0
      },
      "text/plain": [
       "  0%|          | 0/1722 [00:00<?, ?it/s]"
      ]
     },
     "metadata": {},
     "output_type": "display_data"
    },
    {
     "name": "stdout",
     "output_type": "stream",
     "text": [
      "Train Loss 0.7478\n",
      "Mean square error 0.0347\n",
      "Mean absolute error 0.0719\n",
      "Epoch 1\n"
     ]
    },
    {
     "data": {
      "application/vnd.jupyter.widget-view+json": {
       "model_id": "c41d7196190944008de7933ca710a5ff",
       "version_major": 2,
       "version_minor": 0
      },
      "text/plain": [
       "  0%|          | 0/1722 [00:00<?, ?it/s]"
      ]
     },
     "metadata": {},
     "output_type": "display_data"
    },
    {
     "name": "stdout",
     "output_type": "stream",
     "text": [
      "Train Loss 11.0152\n",
      "Mean square error 0.0271\n",
      "Mean absolute error 0.0627\n",
      "Epoch 2\n"
     ]
    },
    {
     "data": {
      "application/vnd.jupyter.widget-view+json": {
       "model_id": "952a7fa29ca24e6aa3e4229b850415ba",
       "version_major": 2,
       "version_minor": 0
      },
      "text/plain": [
       "  0%|          | 0/1722 [00:00<?, ?it/s]"
      ]
     },
     "metadata": {},
     "output_type": "display_data"
    },
    {
     "name": "stdout",
     "output_type": "stream",
     "text": [
      "Train Loss 5.1260\n",
      "Mean square error 0.0241\n",
      "Mean absolute error 0.0589\n"
     ]
    }
   ],
   "source": [
    "class Attention(nn.Module):\n",
    "    def __init__(self, hidden_size):\n",
    "        super().__init__()\n",
    "        self.U = nn.Parameter(torch.randn(hidden_size, hidden_size))\n",
    "\n",
    "    def forward(self, A, B):\n",
    "        G = A.transpose(-1, -2) @ self.U.expand(A.shape[0], -1, -1) @ B\n",
    "        G = torch.tanh(G)\n",
    "        A_pooling = G.max(dim=-1)[0]\n",
    "        B_pooling = G.max(dim=-2)[0]\n",
    "        A_pooling = A_pooling.softmax(dim=-1)\n",
    "        B_pooling = B_pooling.softmax(dim=-1)\n",
    "        ra = A @ A_pooling.unsqueeze(-1)\n",
    "        rb = B @ B_pooling.unsqueeze(-1)\n",
    "        ra = ra.squeeze(-1)\n",
    "        rb = rb.squeeze(-1)\n",
    "        return ra, rb\n",
    "\n",
    "class SalaryPredictorAttentivePooling(SalaryPredictor):\n",
    "    def __init__(self, dim=8):\n",
    "        super().__init__()\n",
    "        self.dim = dim\n",
    "\n",
    "        self.title_encoder = nn.Sequential(\n",
    "            nn.Conv1d(self.dim, self.hid_size, kernel_size=(2, )),\n",
    "            nn.BatchNorm1d(self.hid_size),\n",
    "            nn.Dropout(p=0.25),\n",
    "            nn.ReLU()\n",
    "        )\n",
    "        self.description_encoder = nn.Sequential(\n",
    "            nn.Conv1d(self.dim, self.hid_size, kernel_size=(2, )),\n",
    "            nn.BatchNorm1d(self.hid_size),\n",
    "            nn.Dropout(p=0.25),\n",
    "            nn.ReLU()\n",
    "        )\n",
    "        self.attentive_pooling = Attention(self.hid_size)\n",
    "        self.categorical_encoder = nn.Sequential(\n",
    "            nn.Linear(self.n_cat_features, self.hid_size * 8),\n",
    "            nn.BatchNorm1d(self.hid_size * 8),\n",
    "            nn.ReLU(),\n",
    "            nn.Linear(self.hid_size * 8, self.hid_size * 4),\n",
    "            nn.BatchNorm1d(self.hid_size * 4),\n",
    "            nn.ReLU()\n",
    "        )\n",
    "        self.final_predictor = nn.Sequential(\n",
    "            nn.Linear(self.hid_size * 6, self.hid_size),\n",
    "            nn.BatchNorm1d(self.hid_size),\n",
    "            nn.ReLU(),\n",
    "            nn.Linear(self.hid_size, 1)\n",
    "        )\n",
    "\n",
    "    def forward(self, batch):\n",
    "        title_embeddings = self.embedder(batch['Title']).permute(0, 2, 1)\n",
    "        title_features = self.title_encoder(title_embeddings)\n",
    "\n",
    "        description_embeddings = self.embedder(batch['FullDescription']).permute(0, 2, 1)\n",
    "        description_features = self.description_encoder(description_embeddings)\n",
    "\n",
    "        categorical_features = self.categorical_encoder(batch['Categorical'])\n",
    "\n",
    "        colmax, rowmax = self.attentive_pooling(title_features, description_features)\n",
    "        features = torch.cat(\n",
    "            [colmax.squeeze(), rowmax.squeeze(), categorical_features], dim=1)\n",
    "\n",
    "        return self.final_predictor(features).squeeze()\n",
    "\n",
    "model = SalaryPredictorAttentivePooling()\n",
    "train(model, BATCH_SIZE, EPOCHS, DEVICE, VECTOR_SIZES, 'SalaryPredictorAttentivePooling')"
   ]
  }
 ],
 "metadata": {
  "accelerator": "GPU",
  "colab": {
   "collapsed_sections": [],
   "name": "seminar_torch.ipynb",
   "provenance": []
  },
  "kernelspec": {
   "display_name": "Python 3 (ipykernel)",
   "language": "python",
   "name": "python3"
  },
  "language_info": {
   "codemirror_mode": {
    "name": "ipython",
    "version": 3
   },
   "file_extension": ".py",
   "mimetype": "text/x-python",
   "name": "python",
   "nbconvert_exporter": "python",
   "pygments_lexer": "ipython3",
   "version": "3.9.5"
  },
  "widgets": {
   "application/vnd.jupyter.widget-state+json": {
    "03bbe0d4b0524a85be49a1b119aaa66a": {
     "model_module": "@jupyter-widgets/base",
     "model_module_version": "1.2.0",
     "model_name": "LayoutModel",
     "state": {
      "_model_module": "@jupyter-widgets/base",
      "_model_module_version": "1.2.0",
      "_model_name": "LayoutModel",
      "_view_count": null,
      "_view_module": "@jupyter-widgets/base",
      "_view_module_version": "1.2.0",
      "_view_name": "LayoutView",
      "align_content": null,
      "align_items": null,
      "align_self": null,
      "border": null,
      "bottom": null,
      "display": null,
      "flex": null,
      "flex_flow": null,
      "grid_area": null,
      "grid_auto_columns": null,
      "grid_auto_flow": null,
      "grid_auto_rows": null,
      "grid_column": null,
      "grid_gap": null,
      "grid_row": null,
      "grid_template_areas": null,
      "grid_template_columns": null,
      "grid_template_rows": null,
      "height": null,
      "justify_content": null,
      "justify_items": null,
      "left": null,
      "margin": null,
      "max_height": null,
      "max_width": null,
      "min_height": null,
      "min_width": null,
      "object_fit": null,
      "object_position": null,
      "order": null,
      "overflow": null,
      "overflow_x": null,
      "overflow_y": null,
      "padding": null,
      "right": null,
      "top": null,
      "visibility": null,
      "width": null
     }
    },
    "0f5b3da7508f461595456f1316465dae": {
     "model_module": "@jupyter-widgets/controls",
     "model_module_version": "1.5.0",
     "model_name": "FloatProgressModel",
     "state": {
      "_dom_classes": [],
      "_model_module": "@jupyter-widgets/controls",
      "_model_module_version": "1.5.0",
      "_model_name": "FloatProgressModel",
      "_view_count": null,
      "_view_module": "@jupyter-widgets/controls",
      "_view_module_version": "1.5.0",
      "_view_name": "ProgressView",
      "bar_style": "success",
      "description": "",
      "description_tooltip": null,
      "layout": "IPY_MODEL_b680fa64dc604e6d94697242310428e9",
      "max": 1721,
      "min": 0,
      "orientation": "horizontal",
      "style": "IPY_MODEL_b2b39e59a46a4338bc75afd376e69931",
      "value": 1721
     }
    },
    "1c6445766414415e99ac32fb94686dca": {
     "model_module": "@jupyter-widgets/controls",
     "model_module_version": "1.5.0",
     "model_name": "HTMLModel",
     "state": {
      "_dom_classes": [],
      "_model_module": "@jupyter-widgets/controls",
      "_model_module_version": "1.5.0",
      "_model_name": "HTMLModel",
      "_view_count": null,
      "_view_module": "@jupyter-widgets/controls",
      "_view_module_version": "1.5.0",
      "_view_name": "HTMLView",
      "description": "",
      "description_tooltip": null,
      "layout": "IPY_MODEL_995b4b20bd094ab4b5a3d2027c45fdca",
      "placeholder": "​",
      "style": "IPY_MODEL_d32c4d65bc164e30aca844c670363ae3",
      "value": " 1722/? [01:36&lt;00:00, 17.78it/s]"
     }
    },
    "2dae3fd3baad438aa9436206e741ac38": {
     "model_module": "@jupyter-widgets/controls",
     "model_module_version": "1.5.0",
     "model_name": "DescriptionStyleModel",
     "state": {
      "_model_module": "@jupyter-widgets/controls",
      "_model_module_version": "1.5.0",
      "_model_name": "DescriptionStyleModel",
      "_view_count": null,
      "_view_module": "@jupyter-widgets/base",
      "_view_module_version": "1.2.0",
      "_view_name": "StyleView",
      "description_width": ""
     }
    },
    "30902776c0564143a69d7b6ebf0fe9b9": {
     "model_module": "@jupyter-widgets/base",
     "model_module_version": "1.2.0",
     "model_name": "LayoutModel",
     "state": {
      "_model_module": "@jupyter-widgets/base",
      "_model_module_version": "1.2.0",
      "_model_name": "LayoutModel",
      "_view_count": null,
      "_view_module": "@jupyter-widgets/base",
      "_view_module_version": "1.2.0",
      "_view_name": "LayoutView",
      "align_content": null,
      "align_items": null,
      "align_self": null,
      "border": null,
      "bottom": null,
      "display": null,
      "flex": null,
      "flex_flow": null,
      "grid_area": null,
      "grid_auto_columns": null,
      "grid_auto_flow": null,
      "grid_auto_rows": null,
      "grid_column": null,
      "grid_gap": null,
      "grid_row": null,
      "grid_template_areas": null,
      "grid_template_columns": null,
      "grid_template_rows": null,
      "height": null,
      "justify_content": null,
      "justify_items": null,
      "left": null,
      "margin": null,
      "max_height": null,
      "max_width": null,
      "min_height": null,
      "min_width": null,
      "object_fit": null,
      "object_position": null,
      "order": null,
      "overflow": null,
      "overflow_x": null,
      "overflow_y": null,
      "padding": null,
      "right": null,
      "top": null,
      "visibility": null,
      "width": null
     }
    },
    "3a34a95aa682439fbce7c40ac232bfa3": {
     "model_module": "@jupyter-widgets/controls",
     "model_module_version": "1.5.0",
     "model_name": "HBoxModel",
     "state": {
      "_dom_classes": [],
      "_model_module": "@jupyter-widgets/controls",
      "_model_module_version": "1.5.0",
      "_model_name": "HBoxModel",
      "_view_count": null,
      "_view_module": "@jupyter-widgets/controls",
      "_view_module_version": "1.5.0",
      "_view_name": "HBoxView",
      "box_style": "",
      "children": [
       "IPY_MODEL_b5308c327f5c4395852638002e93312a",
       "IPY_MODEL_1c6445766414415e99ac32fb94686dca"
      ],
      "layout": "IPY_MODEL_30902776c0564143a69d7b6ebf0fe9b9"
     }
    },
    "421c51a1bf9d4be4ad8c445ad5c6fce8": {
     "model_module": "@jupyter-widgets/controls",
     "model_module_version": "1.5.0",
     "model_name": "FloatProgressModel",
     "state": {
      "_dom_classes": [],
      "_model_module": "@jupyter-widgets/controls",
      "_model_module_version": "1.5.0",
      "_model_name": "FloatProgressModel",
      "_view_count": null,
      "_view_module": "@jupyter-widgets/controls",
      "_view_module_version": "1.5.0",
      "_view_name": "ProgressView",
      "bar_style": "success",
      "description": "",
      "description_tooltip": null,
      "layout": "IPY_MODEL_98b0239d3c6c4c8ca82d0f7cb96734fe",
      "max": 1721,
      "min": 0,
      "orientation": "horizontal",
      "style": "IPY_MODEL_cc9eef35c7da4872bac60bd46110fa04",
      "value": 1721
     }
    },
    "4722c85bb02b4291a90e6402d86397fa": {
     "model_module": "@jupyter-widgets/controls",
     "model_module_version": "1.5.0",
     "model_name": "DescriptionStyleModel",
     "state": {
      "_model_module": "@jupyter-widgets/controls",
      "_model_module_version": "1.5.0",
      "_model_name": "DescriptionStyleModel",
      "_view_count": null,
      "_view_module": "@jupyter-widgets/base",
      "_view_module_version": "1.2.0",
      "_view_name": "StyleView",
      "description_width": ""
     }
    },
    "6505bbb46d7f4ffa9794fde8861cd8fb": {
     "model_module": "@jupyter-widgets/controls",
     "model_module_version": "1.5.0",
     "model_name": "HBoxModel",
     "state": {
      "_dom_classes": [],
      "_model_module": "@jupyter-widgets/controls",
      "_model_module_version": "1.5.0",
      "_model_name": "HBoxModel",
      "_view_count": null,
      "_view_module": "@jupyter-widgets/controls",
      "_view_module_version": "1.5.0",
      "_view_name": "HBoxView",
      "box_style": "",
      "children": [
       "IPY_MODEL_0f5b3da7508f461595456f1316465dae",
       "IPY_MODEL_b6d38ddc1e4948c9b98a6d79c18cd5a5"
      ],
      "layout": "IPY_MODEL_03bbe0d4b0524a85be49a1b119aaa66a"
     }
    },
    "73e5ea94ed2c45f5b25d1281f66b59bf": {
     "model_module": "@jupyter-widgets/controls",
     "model_module_version": "1.5.0",
     "model_name": "HTMLModel",
     "state": {
      "_dom_classes": [],
      "_model_module": "@jupyter-widgets/controls",
      "_model_module_version": "1.5.0",
      "_model_name": "HTMLModel",
      "_view_count": null,
      "_view_module": "@jupyter-widgets/controls",
      "_view_module_version": "1.5.0",
      "_view_name": "HTMLView",
      "description": "",
      "description_tooltip": null,
      "layout": "IPY_MODEL_af9922f672f54841b5acb1379534d1e5",
      "placeholder": "​",
      "style": "IPY_MODEL_2dae3fd3baad438aa9436206e741ac38",
      "value": " 1722/? [01:36&lt;00:00, 17.90it/s]"
     }
    },
    "7b79ef9602d041acada88a1e3e75fa7f": {
     "model_module": "@jupyter-widgets/controls",
     "model_module_version": "1.5.0",
     "model_name": "ProgressStyleModel",
     "state": {
      "_model_module": "@jupyter-widgets/controls",
      "_model_module_version": "1.5.0",
      "_model_name": "ProgressStyleModel",
      "_view_count": null,
      "_view_module": "@jupyter-widgets/base",
      "_view_module_version": "1.2.0",
      "_view_name": "StyleView",
      "bar_color": null,
      "description_width": "initial"
     }
    },
    "98b0239d3c6c4c8ca82d0f7cb96734fe": {
     "model_module": "@jupyter-widgets/base",
     "model_module_version": "1.2.0",
     "model_name": "LayoutModel",
     "state": {
      "_model_module": "@jupyter-widgets/base",
      "_model_module_version": "1.2.0",
      "_model_name": "LayoutModel",
      "_view_count": null,
      "_view_module": "@jupyter-widgets/base",
      "_view_module_version": "1.2.0",
      "_view_name": "LayoutView",
      "align_content": null,
      "align_items": null,
      "align_self": null,
      "border": null,
      "bottom": null,
      "display": null,
      "flex": null,
      "flex_flow": null,
      "grid_area": null,
      "grid_auto_columns": null,
      "grid_auto_flow": null,
      "grid_auto_rows": null,
      "grid_column": null,
      "grid_gap": null,
      "grid_row": null,
      "grid_template_areas": null,
      "grid_template_columns": null,
      "grid_template_rows": null,
      "height": null,
      "justify_content": null,
      "justify_items": null,
      "left": null,
      "margin": null,
      "max_height": null,
      "max_width": null,
      "min_height": null,
      "min_width": null,
      "object_fit": null,
      "object_position": null,
      "order": null,
      "overflow": null,
      "overflow_x": null,
      "overflow_y": null,
      "padding": null,
      "right": null,
      "top": null,
      "visibility": null,
      "width": null
     }
    },
    "995b4b20bd094ab4b5a3d2027c45fdca": {
     "model_module": "@jupyter-widgets/base",
     "model_module_version": "1.2.0",
     "model_name": "LayoutModel",
     "state": {
      "_model_module": "@jupyter-widgets/base",
      "_model_module_version": "1.2.0",
      "_model_name": "LayoutModel",
      "_view_count": null,
      "_view_module": "@jupyter-widgets/base",
      "_view_module_version": "1.2.0",
      "_view_name": "LayoutView",
      "align_content": null,
      "align_items": null,
      "align_self": null,
      "border": null,
      "bottom": null,
      "display": null,
      "flex": null,
      "flex_flow": null,
      "grid_area": null,
      "grid_auto_columns": null,
      "grid_auto_flow": null,
      "grid_auto_rows": null,
      "grid_column": null,
      "grid_gap": null,
      "grid_row": null,
      "grid_template_areas": null,
      "grid_template_columns": null,
      "grid_template_rows": null,
      "height": null,
      "justify_content": null,
      "justify_items": null,
      "left": null,
      "margin": null,
      "max_height": null,
      "max_width": null,
      "min_height": null,
      "min_width": null,
      "object_fit": null,
      "object_position": null,
      "order": null,
      "overflow": null,
      "overflow_x": null,
      "overflow_y": null,
      "padding": null,
      "right": null,
      "top": null,
      "visibility": null,
      "width": null
     }
    },
    "a2b99faed0f54678811698f312ed80a4": {
     "model_module": "@jupyter-widgets/controls",
     "model_module_version": "1.5.0",
     "model_name": "HBoxModel",
     "state": {
      "_dom_classes": [],
      "_model_module": "@jupyter-widgets/controls",
      "_model_module_version": "1.5.0",
      "_model_name": "HBoxModel",
      "_view_count": null,
      "_view_module": "@jupyter-widgets/controls",
      "_view_module_version": "1.5.0",
      "_view_name": "HBoxView",
      "box_style": "",
      "children": [
       "IPY_MODEL_421c51a1bf9d4be4ad8c445ad5c6fce8",
       "IPY_MODEL_73e5ea94ed2c45f5b25d1281f66b59bf"
      ],
      "layout": "IPY_MODEL_df9c2a9f3fe04519853a361700e3c056"
     }
    },
    "af9922f672f54841b5acb1379534d1e5": {
     "model_module": "@jupyter-widgets/base",
     "model_module_version": "1.2.0",
     "model_name": "LayoutModel",
     "state": {
      "_model_module": "@jupyter-widgets/base",
      "_model_module_version": "1.2.0",
      "_model_name": "LayoutModel",
      "_view_count": null,
      "_view_module": "@jupyter-widgets/base",
      "_view_module_version": "1.2.0",
      "_view_name": "LayoutView",
      "align_content": null,
      "align_items": null,
      "align_self": null,
      "border": null,
      "bottom": null,
      "display": null,
      "flex": null,
      "flex_flow": null,
      "grid_area": null,
      "grid_auto_columns": null,
      "grid_auto_flow": null,
      "grid_auto_rows": null,
      "grid_column": null,
      "grid_gap": null,
      "grid_row": null,
      "grid_template_areas": null,
      "grid_template_columns": null,
      "grid_template_rows": null,
      "height": null,
      "justify_content": null,
      "justify_items": null,
      "left": null,
      "margin": null,
      "max_height": null,
      "max_width": null,
      "min_height": null,
      "min_width": null,
      "object_fit": null,
      "object_position": null,
      "order": null,
      "overflow": null,
      "overflow_x": null,
      "overflow_y": null,
      "padding": null,
      "right": null,
      "top": null,
      "visibility": null,
      "width": null
     }
    },
    "b2b39e59a46a4338bc75afd376e69931": {
     "model_module": "@jupyter-widgets/controls",
     "model_module_version": "1.5.0",
     "model_name": "ProgressStyleModel",
     "state": {
      "_model_module": "@jupyter-widgets/controls",
      "_model_module_version": "1.5.0",
      "_model_name": "ProgressStyleModel",
      "_view_count": null,
      "_view_module": "@jupyter-widgets/base",
      "_view_module_version": "1.2.0",
      "_view_name": "StyleView",
      "bar_color": null,
      "description_width": "initial"
     }
    },
    "b5308c327f5c4395852638002e93312a": {
     "model_module": "@jupyter-widgets/controls",
     "model_module_version": "1.5.0",
     "model_name": "FloatProgressModel",
     "state": {
      "_dom_classes": [],
      "_model_module": "@jupyter-widgets/controls",
      "_model_module_version": "1.5.0",
      "_model_name": "FloatProgressModel",
      "_view_count": null,
      "_view_module": "@jupyter-widgets/controls",
      "_view_module_version": "1.5.0",
      "_view_name": "ProgressView",
      "bar_style": "success",
      "description": "",
      "description_tooltip": null,
      "layout": "IPY_MODEL_df3fe642b3184ce89286cd052f047cbd",
      "max": 1721,
      "min": 0,
      "orientation": "horizontal",
      "style": "IPY_MODEL_7b79ef9602d041acada88a1e3e75fa7f",
      "value": 1721
     }
    },
    "b680fa64dc604e6d94697242310428e9": {
     "model_module": "@jupyter-widgets/base",
     "model_module_version": "1.2.0",
     "model_name": "LayoutModel",
     "state": {
      "_model_module": "@jupyter-widgets/base",
      "_model_module_version": "1.2.0",
      "_model_name": "LayoutModel",
      "_view_count": null,
      "_view_module": "@jupyter-widgets/base",
      "_view_module_version": "1.2.0",
      "_view_name": "LayoutView",
      "align_content": null,
      "align_items": null,
      "align_self": null,
      "border": null,
      "bottom": null,
      "display": null,
      "flex": null,
      "flex_flow": null,
      "grid_area": null,
      "grid_auto_columns": null,
      "grid_auto_flow": null,
      "grid_auto_rows": null,
      "grid_column": null,
      "grid_gap": null,
      "grid_row": null,
      "grid_template_areas": null,
      "grid_template_columns": null,
      "grid_template_rows": null,
      "height": null,
      "justify_content": null,
      "justify_items": null,
      "left": null,
      "margin": null,
      "max_height": null,
      "max_width": null,
      "min_height": null,
      "min_width": null,
      "object_fit": null,
      "object_position": null,
      "order": null,
      "overflow": null,
      "overflow_x": null,
      "overflow_y": null,
      "padding": null,
      "right": null,
      "top": null,
      "visibility": null,
      "width": null
     }
    },
    "b6d38ddc1e4948c9b98a6d79c18cd5a5": {
     "model_module": "@jupyter-widgets/controls",
     "model_module_version": "1.5.0",
     "model_name": "HTMLModel",
     "state": {
      "_dom_classes": [],
      "_model_module": "@jupyter-widgets/controls",
      "_model_module_version": "1.5.0",
      "_model_name": "HTMLModel",
      "_view_count": null,
      "_view_module": "@jupyter-widgets/controls",
      "_view_module_version": "1.5.0",
      "_view_name": "HTMLView",
      "description": "",
      "description_tooltip": null,
      "layout": "IPY_MODEL_c34336639978471f8e0f6aa78e1955ff",
      "placeholder": "​",
      "style": "IPY_MODEL_4722c85bb02b4291a90e6402d86397fa",
      "value": " 1722/? [01:36&lt;00:00, 17.82it/s]"
     }
    },
    "c34336639978471f8e0f6aa78e1955ff": {
     "model_module": "@jupyter-widgets/base",
     "model_module_version": "1.2.0",
     "model_name": "LayoutModel",
     "state": {
      "_model_module": "@jupyter-widgets/base",
      "_model_module_version": "1.2.0",
      "_model_name": "LayoutModel",
      "_view_count": null,
      "_view_module": "@jupyter-widgets/base",
      "_view_module_version": "1.2.0",
      "_view_name": "LayoutView",
      "align_content": null,
      "align_items": null,
      "align_self": null,
      "border": null,
      "bottom": null,
      "display": null,
      "flex": null,
      "flex_flow": null,
      "grid_area": null,
      "grid_auto_columns": null,
      "grid_auto_flow": null,
      "grid_auto_rows": null,
      "grid_column": null,
      "grid_gap": null,
      "grid_row": null,
      "grid_template_areas": null,
      "grid_template_columns": null,
      "grid_template_rows": null,
      "height": null,
      "justify_content": null,
      "justify_items": null,
      "left": null,
      "margin": null,
      "max_height": null,
      "max_width": null,
      "min_height": null,
      "min_width": null,
      "object_fit": null,
      "object_position": null,
      "order": null,
      "overflow": null,
      "overflow_x": null,
      "overflow_y": null,
      "padding": null,
      "right": null,
      "top": null,
      "visibility": null,
      "width": null
     }
    },
    "cc9eef35c7da4872bac60bd46110fa04": {
     "model_module": "@jupyter-widgets/controls",
     "model_module_version": "1.5.0",
     "model_name": "ProgressStyleModel",
     "state": {
      "_model_module": "@jupyter-widgets/controls",
      "_model_module_version": "1.5.0",
      "_model_name": "ProgressStyleModel",
      "_view_count": null,
      "_view_module": "@jupyter-widgets/base",
      "_view_module_version": "1.2.0",
      "_view_name": "StyleView",
      "bar_color": null,
      "description_width": "initial"
     }
    },
    "d32c4d65bc164e30aca844c670363ae3": {
     "model_module": "@jupyter-widgets/controls",
     "model_module_version": "1.5.0",
     "model_name": "DescriptionStyleModel",
     "state": {
      "_model_module": "@jupyter-widgets/controls",
      "_model_module_version": "1.5.0",
      "_model_name": "DescriptionStyleModel",
      "_view_count": null,
      "_view_module": "@jupyter-widgets/base",
      "_view_module_version": "1.2.0",
      "_view_name": "StyleView",
      "description_width": ""
     }
    },
    "df3fe642b3184ce89286cd052f047cbd": {
     "model_module": "@jupyter-widgets/base",
     "model_module_version": "1.2.0",
     "model_name": "LayoutModel",
     "state": {
      "_model_module": "@jupyter-widgets/base",
      "_model_module_version": "1.2.0",
      "_model_name": "LayoutModel",
      "_view_count": null,
      "_view_module": "@jupyter-widgets/base",
      "_view_module_version": "1.2.0",
      "_view_name": "LayoutView",
      "align_content": null,
      "align_items": null,
      "align_self": null,
      "border": null,
      "bottom": null,
      "display": null,
      "flex": null,
      "flex_flow": null,
      "grid_area": null,
      "grid_auto_columns": null,
      "grid_auto_flow": null,
      "grid_auto_rows": null,
      "grid_column": null,
      "grid_gap": null,
      "grid_row": null,
      "grid_template_areas": null,
      "grid_template_columns": null,
      "grid_template_rows": null,
      "height": null,
      "justify_content": null,
      "justify_items": null,
      "left": null,
      "margin": null,
      "max_height": null,
      "max_width": null,
      "min_height": null,
      "min_width": null,
      "object_fit": null,
      "object_position": null,
      "order": null,
      "overflow": null,
      "overflow_x": null,
      "overflow_y": null,
      "padding": null,
      "right": null,
      "top": null,
      "visibility": null,
      "width": null
     }
    },
    "df9c2a9f3fe04519853a361700e3c056": {
     "model_module": "@jupyter-widgets/base",
     "model_module_version": "1.2.0",
     "model_name": "LayoutModel",
     "state": {
      "_model_module": "@jupyter-widgets/base",
      "_model_module_version": "1.2.0",
      "_model_name": "LayoutModel",
      "_view_count": null,
      "_view_module": "@jupyter-widgets/base",
      "_view_module_version": "1.2.0",
      "_view_name": "LayoutView",
      "align_content": null,
      "align_items": null,
      "align_self": null,
      "border": null,
      "bottom": null,
      "display": null,
      "flex": null,
      "flex_flow": null,
      "grid_area": null,
      "grid_auto_columns": null,
      "grid_auto_flow": null,
      "grid_auto_rows": null,
      "grid_column": null,
      "grid_gap": null,
      "grid_row": null,
      "grid_template_areas": null,
      "grid_template_columns": null,
      "grid_template_rows": null,
      "height": null,
      "justify_content": null,
      "justify_items": null,
      "left": null,
      "margin": null,
      "max_height": null,
      "max_width": null,
      "min_height": null,
      "min_width": null,
      "object_fit": null,
      "object_position": null,
      "order": null,
      "overflow": null,
      "overflow_x": null,
      "overflow_y": null,
      "padding": null,
      "right": null,
      "top": null,
      "visibility": null,
      "width": null
     }
    }
   }
  }
 },
 "nbformat": 4,
 "nbformat_minor": 1
}